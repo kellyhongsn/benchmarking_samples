{
 "cells": [
  {
   "cell_type": "code",
   "execution_count": 1,
   "metadata": {},
   "outputs": [],
   "source": [
    "%load_ext autoreload\n",
    "%autoreload 2"
   ]
  },
  {
   "cell_type": "code",
   "execution_count": 99,
   "metadata": {},
   "outputs": [],
   "source": [
    "import pandas as pd\n",
    "import os\n",
    "from dotenv import load_dotenv\n",
    "from tqdm import tqdm\n",
    "import mteb\n",
    "import json\n",
    "import matplotlib.pyplot as plt\n",
    "import datasets\n",
    "from utils import get_query_and_corpus, print_for_eval, get_cos_sim, add_cos_sim_column\n",
    "from llms import get_claude_queries\n",
    "from sentence_transformers import SentenceTransformer, util\n",
    "import chromadb\n",
    "from chromadb.utils import embedding_functions\n",
    "from evals import embed_corpus, retrieve, get_metrics, evaluate, evaluate_new\n",
    "from multiprocessing import cpu_count\n",
    "from concurrent.futures import ThreadPoolExecutor\n",
    "import threading\n",
    "from typing import List\n",
    "import numpy as np\n",
    "import requests\n",
    "import cohere\n",
    "import voyageai\n",
    "from openai import OpenAI\n",
    "import torch\n",
    "from embedding_funcs import process_in_batches_voyage_no_input, jina_process_in_batches_no_input, jina_process_in_batches_input_type, process_in_batches_voyage_input_type, minilm_embed_batch"
   ]
  },
  {
   "cell_type": "markdown",
   "metadata": {},
   "source": [
    "#### Load in data & define functions"
   ]
  },
  {
   "cell_type": "code",
   "execution_count": 25,
   "metadata": {},
   "outputs": [],
   "source": [
    "all_queries = datasets.load_dataset(\"ellamind/wikipedia-2023-11-retrieval-multilingual-queries\", \"en\")\n",
    "all_corpus = datasets.load_dataset(\"ellamind/wikipedia-2023-11-retrieval-multilingual-corpus\", \"en\")\n",
    "all_qrels = datasets.load_dataset(\"ellamind/wikipedia-2023-11-retrieval-multilingual-qrels\", \"en\")\n",
    "\n",
    "all_queries_df = all_queries[\"test\"].to_pandas()\n",
    "all_corpus_df = all_corpus[\"test\"].to_pandas()\n",
    "all_qrels_df = all_qrels[\"test\"].to_pandas()\n",
    "\n",
    "all_corpus_text = all_corpus_df[\"text\"].tolist()\n",
    "all_corpus_ids = all_corpus_df[\"_id\"].tolist()"
   ]
  },
  {
   "cell_type": "code",
   "execution_count": 43,
   "metadata": {},
   "outputs": [
    {
     "data": {
      "text/html": [
       "<div>\n",
       "<style scoped>\n",
       "    .dataframe tbody tr th:only-of-type {\n",
       "        vertical-align: middle;\n",
       "    }\n",
       "\n",
       "    .dataframe tbody tr th {\n",
       "        vertical-align: top;\n",
       "    }\n",
       "\n",
       "    .dataframe thead th {\n",
       "        text-align: right;\n",
       "    }\n",
       "</style>\n",
       "<table border=\"1\" class=\"dataframe\">\n",
       "  <thead>\n",
       "    <tr style=\"text-align: right;\">\n",
       "      <th></th>\n",
       "      <th>query-id</th>\n",
       "      <th>corpus-id</th>\n",
       "      <th>score</th>\n",
       "    </tr>\n",
       "  </thead>\n",
       "  <tbody>\n",
       "    <tr>\n",
       "      <th>4</th>\n",
       "      <td>q20231101.en_45492650_20</td>\n",
       "      <td>20231101.en_45492650_20</td>\n",
       "      <td>1.0</td>\n",
       "    </tr>\n",
       "    <tr>\n",
       "      <th>13</th>\n",
       "      <td>q20231101.en_5843419_78</td>\n",
       "      <td>20231101.en_5843419_78</td>\n",
       "      <td>1.0</td>\n",
       "    </tr>\n",
       "    <tr>\n",
       "      <th>22</th>\n",
       "      <td>q20231101.en_5058739_82</td>\n",
       "      <td>20231101.en_5058739_82</td>\n",
       "      <td>1.0</td>\n",
       "    </tr>\n",
       "    <tr>\n",
       "      <th>31</th>\n",
       "      <td>q20231101.en_62676_84</td>\n",
       "      <td>20231101.en_62676_84</td>\n",
       "      <td>1.0</td>\n",
       "    </tr>\n",
       "    <tr>\n",
       "      <th>40</th>\n",
       "      <td>q20231101.en_8841749_25</td>\n",
       "      <td>20231101.en_8841749_25</td>\n",
       "      <td>1.0</td>\n",
       "    </tr>\n",
       "    <tr>\n",
       "      <th>...</th>\n",
       "      <td>...</td>\n",
       "      <td>...</td>\n",
       "      <td>...</td>\n",
       "    </tr>\n",
       "    <tr>\n",
       "      <th>13459</th>\n",
       "      <td>q20231101.en_431272_20</td>\n",
       "      <td>20231101.en_431272_20</td>\n",
       "      <td>1.0</td>\n",
       "    </tr>\n",
       "    <tr>\n",
       "      <th>13468</th>\n",
       "      <td>q20231101.en_1288246_4</td>\n",
       "      <td>20231101.en_1288246_4</td>\n",
       "      <td>1.0</td>\n",
       "    </tr>\n",
       "    <tr>\n",
       "      <th>13477</th>\n",
       "      <td>q20231101.en_3684349_61</td>\n",
       "      <td>20231101.en_3684349_61</td>\n",
       "      <td>1.0</td>\n",
       "    </tr>\n",
       "    <tr>\n",
       "      <th>13486</th>\n",
       "      <td>q20231101.en_159168_15</td>\n",
       "      <td>20231101.en_159168_15</td>\n",
       "      <td>1.0</td>\n",
       "    </tr>\n",
       "    <tr>\n",
       "      <th>13495</th>\n",
       "      <td>q20231101.en_1488463_17</td>\n",
       "      <td>20231101.en_1488463_17</td>\n",
       "      <td>1.0</td>\n",
       "    </tr>\n",
       "  </tbody>\n",
       "</table>\n",
       "<p>1500 rows × 3 columns</p>\n",
       "</div>"
      ],
      "text/plain": [
       "                       query-id                corpus-id  score\n",
       "4      q20231101.en_45492650_20  20231101.en_45492650_20    1.0\n",
       "13      q20231101.en_5843419_78   20231101.en_5843419_78    1.0\n",
       "22      q20231101.en_5058739_82   20231101.en_5058739_82    1.0\n",
       "31        q20231101.en_62676_84     20231101.en_62676_84    1.0\n",
       "40      q20231101.en_8841749_25   20231101.en_8841749_25    1.0\n",
       "...                         ...                      ...    ...\n",
       "13459    q20231101.en_431272_20    20231101.en_431272_20    1.0\n",
       "13468    q20231101.en_1288246_4    20231101.en_1288246_4    1.0\n",
       "13477   q20231101.en_3684349_61   20231101.en_3684349_61    1.0\n",
       "13486    q20231101.en_159168_15    20231101.en_159168_15    1.0\n",
       "13495   q20231101.en_1488463_17   20231101.en_1488463_17    1.0\n",
       "\n",
       "[1500 rows x 3 columns]"
      ]
     },
     "execution_count": 43,
     "metadata": {},
     "output_type": "execute_result"
    }
   ],
   "source": [
    "all_qrels_df = all_qrels_df[all_qrels_df[\"score\"] == 1]\n",
    "all_qrels_df"
   ]
  },
  {
   "cell_type": "code",
   "execution_count": 7,
   "metadata": {},
   "outputs": [],
   "source": [
    "batch_size = 100\n",
    "k_values = [1, 3, 5, 10]"
   ]
  },
  {
   "cell_type": "code",
   "execution_count": 125,
   "metadata": {},
   "outputs": [],
   "source": [
    "def new_get_results(collection, queries_text, queries_ids, queries_embeddings):\n",
    "    results = dict()\n",
    "\n",
    "    for i in tqdm(range(0, len(queries_embeddings), batch_size), desc=\"Processing batches\"):\n",
    "        batch_text = queries_text[i:i + batch_size]\n",
    "        batch_ids = queries_ids[i:i + batch_size]\n",
    "        batch_embeddings = queries_embeddings[i:i + batch_size]\n",
    "\n",
    "        query_results = collection.query(\n",
    "            query_embeddings=batch_embeddings,\n",
    "            query_texts=batch_text,\n",
    "            n_results=10\n",
    "        )\n",
    "\n",
    "        for idx, (query_id, query_embedding) in enumerate(zip(batch_ids, batch_embeddings)):\n",
    "\n",
    "            results[query_id] = {\n",
    "                \"query_embdding\": query_embedding,\n",
    "                \"retrieved_corpus_ids\": query_results[\"ids\"][idx],\n",
    "                \"retrieved_corpus_text\": query_results[\"documents\"][idx],\n",
    "                \"all_scores\": [1 - d for d in query_results[\"distances\"][idx]]\n",
    "            }\n",
    "\n",
    "    return results\n",
    "\n",
    "\n",
    "def cosine_similarity(vec1, vec2):\n",
    "    return np.dot(vec1, vec2) / (np.linalg.norm(vec1) * np.linalg.norm(vec2))\n",
    "\n",
    "\n",
    "def calculate_similarity_scores(query_embeddings_dict, corpus_embeddings_dict, output_path=None):\n",
    "    similarity_scores = []\n",
    "\n",
    "    for _, row in all_qrels_df.iterrows():\n",
    "        query_id = row['query-id']\n",
    "        corpus_id = row['corpus-id']\n",
    "        \n",
    "        query_embedding = query_embeddings_dict[query_id]\n",
    "        corpus_embedding = corpus_embeddings_dict[corpus_id]\n",
    "        \n",
    "        similarity = cosine_similarity(query_embedding, corpus_embedding).item()\n",
    "        similarity_scores.append(similarity)\n",
    "\n",
    "    scores_df = all_qrels_df.copy()\n",
    "    scores_df['score'] = similarity_scores\n",
    "\n",
    "    if output_path:\n",
    "        scores_df.to_parquet(output_path)\n",
    "        \n",
    "    return scores_df\n",
    "\n",
    "\n",
    "def get_query_text(id):\n",
    "    return all_queries_df[all_queries_df[\"_id\"] == id][\"text\"].iloc[0]\n",
    "\n",
    "\n",
    "def get_corpus_text(id):\n",
    "    return all_corpus_df[all_corpus_df[\"_id\"] == id][\"text\"].iloc[0]\n",
    "\n",
    "\n",
    "def query(collection, query_dict, query_id):\n",
    "    query_embedding = query_dict[query_id]\n",
    "\n",
    "    query_result = collection.query(\n",
    "        query_embeddings=query_embedding,\n",
    "        n_results=10\n",
    "    )\n",
    "\n",
    "    retrieved_docs = \"\"\n",
    "\n",
    "    for i, (doc_id, doc, score) in enumerate(zip(query_result[\"ids\"][0], \n",
    "                                                query_result[\"documents\"][0],\n",
    "                                                [1 - d for d in query_result[\"distances\"][0]])):\n",
    "        retrieved_docs += f\"{doc_id}, score: {score}, doc: {doc}\\n\\n\"\n",
    "    \n",
    "    return retrieved_docs\n",
    "\n",
    "def create_combined_metrics_df(og_metrics, gen_metrics):\n",
    "    og_metrics_df = pd.DataFrame.from_dict({\n",
    "        k: [value]\n",
    "        for metrics in og_metrics.values()\n",
    "        for k, value in metrics.items()\n",
    "    })\n",
    "\n",
    "    gen_metrics_df = pd.DataFrame.from_dict({\n",
    "        k: [value]\n",
    "        for metrics in gen_metrics.values()\n",
    "        for k, value in metrics.items()\n",
    "    })\n",
    "\n",
    "    combined_metrics_df = pd.concat([\n",
    "        og_metrics_df.assign(type=\"original\"),\n",
    "        gen_metrics_df.assign(type=\"generated\")\n",
    "    ])\n",
    "    \n",
    "    metric_cols = [\"type\", \"NDCG@1\", \"NDCG@3\", \"NDCG@5\", \"NDCG@10\", \n",
    "                  \"MAP@3\", \"MAP@5\", \"MAP@10\", \n",
    "                  \"Recall@3\", \"Recall@5\", \"Recall@10\",\n",
    "                  \"P@3\", \"P@5\", \"P@10\"]\n",
    "    combined_metrics_df = combined_metrics_df[metric_cols]\n",
    "    \n",
    "    return combined_metrics_df\n",
    "\n",
    "def is_success(corpus_id, result):\n",
    "    first_id = result.split(\", \")[0]\n",
    "    return corpus_id == first_id"
   ]
  },
  {
   "cell_type": "code",
   "execution_count": 9,
   "metadata": {},
   "outputs": [],
   "source": [
    "chroma_client = chromadb.HttpClient(\n",
    "  ssl=True,\n",
    "  host='api.trychroma.com',\n",
    "  tenant='',\n",
    "  database='wikien',\n",
    "  headers={\n",
    "    'x-chroma-token': ''\n",
    "  }\n",
    ")"
   ]
  },
  {
   "cell_type": "markdown",
   "metadata": {},
   "source": [
    "#### Generate 1500 queries"
   ]
  },
  {
   "cell_type": "code",
   "execution_count": null,
   "metadata": {},
   "outputs": [],
   "source": [
    "all_qrels_df"
   ]
  },
  {
   "cell_type": "code",
   "execution_count": 116,
   "metadata": {},
   "outputs": [],
   "source": [
    "qrels_with_text = pd.merge(all_qrels_df, all_queries_df, left_on=\"query-id\", right_on=\"_id\", how=\"left\")\n",
    "qrels_with_text = pd.merge(qrels_with_text, all_corpus_df, left_on=\"corpus-id\", right_on=\"_id\", how=\"left\")"
   ]
  },
  {
   "cell_type": "code",
   "execution_count": null,
   "metadata": {},
   "outputs": [],
   "source": [
    "qrels_with_text.rename(columns={\"text_x\": \"query_text\", \"text_y\": \"corpus_text\"}, inplace=True)\n",
    "qrels_with_text.drop(columns=[\"_id_x\", \"_id_y\", \"title\"], inplace=True)\n",
    "qrels_with_text"
   ]
  },
  {
   "cell_type": "code",
   "execution_count": 143,
   "metadata": {},
   "outputs": [],
   "source": [
    "def create_combined_df(col, og_queries_embeddings_dict, gen_queries_embeddings_dict, og_scores_df, gen_scores_df):\n",
    "    merged_scores_df = pd.merge(og_scores_df, gen_scores_df, on=\"query-id\", how=\"left\")\n",
    "    merged_scores_df.rename(columns={\"score_x\": \"og_score\", \"score_y\": \"gen_score\"}, inplace=True)\n",
    "    merged_scores_df.drop(columns=[\"corpus-id_y\"], inplace=True)\n",
    "    merged_scores_df.rename(columns={\"corpus-id_x\": \"corpus-id\"}, inplace=True)\n",
    "    merged_df = pd.merge(qrels_with_text, merged_scores_df, on=\"query-id\", how=\"left\")\n",
    "    merged_df.drop(columns=[\"corpus-id_y\", \"score\"], inplace=True)\n",
    "    merged_df[\"og - gen\"] = merged_df[\"og_score\"] - merged_df[\"gen_score\"]\n",
    "\n",
    "    tqdm.pandas()\n",
    "    merged_df[\"og_query_result\"] = merged_df.progress_apply(lambda row: query(col, og_queries_embeddings_dict, row[\"query-id\"]), axis=1)\n",
    "    merged_df[\"gen_query_result\"] = merged_df.progress_apply(lambda row: query(col, gen_queries_embeddings_dict, row[\"query-id\"]), axis=1)\n",
    "\n",
    "    merged_df[\"og_success\"] = merged_df.apply(lambda row: is_success(row[\"corpus-id\"], row[\"og_query_result\"]), axis=1)\n",
    "    merged_df[\"gen_success\"] = merged_df.apply(lambda row: is_success(row[\"corpus-id\"], row[\"gen_query_result\"]), axis=1)\n",
    "    \n",
    "    return merged_df\n"
   ]
  },
  {
   "cell_type": "code",
   "execution_count": 13,
   "metadata": {},
   "outputs": [],
   "source": [
    "query_corpus_dict = {\n",
    "    row[\"query-id\"]: {\n",
    "        \"query_text\": row[\"query_text\"],\n",
    "        \"corpus_text\": row[\"corpus_text\"]\n",
    "    }\n",
    "    for _, row in qrels_with_text.iterrows()\n",
    "}"
   ]
  },
  {
   "cell_type": "code",
   "execution_count": 14,
   "metadata": {},
   "outputs": [],
   "source": [
    "gen_query_corpus_dict = dict()"
   ]
  },
  {
   "cell_type": "code",
   "execution_count": 21,
   "metadata": {},
   "outputs": [
    {
     "data": {
      "text/html": [
       "<div>\n",
       "<style scoped>\n",
       "    .dataframe tbody tr th:only-of-type {\n",
       "        vertical-align: middle;\n",
       "    }\n",
       "\n",
       "    .dataframe tbody tr th {\n",
       "        vertical-align: top;\n",
       "    }\n",
       "\n",
       "    .dataframe thead th {\n",
       "        text-align: right;\n",
       "    }\n",
       "</style>\n",
       "<table border=\"1\" class=\"dataframe\">\n",
       "  <thead>\n",
       "    <tr style=\"text-align: right;\">\n",
       "      <th></th>\n",
       "      <th>query-id</th>\n",
       "      <th>corpus-id</th>\n",
       "      <th>og_query_text</th>\n",
       "      <th>gen_query_text</th>\n",
       "      <th>corpus_text</th>\n",
       "    </tr>\n",
       "  </thead>\n",
       "  <tbody>\n",
       "    <tr>\n",
       "      <th>0</th>\n",
       "      <td>q20231101.en_189891_13</td>\n",
       "      <td>20231101.en_189891_13</td>\n",
       "      <td>What is the significance of Llyn Ffynnon-y-gwa...</td>\n",
       "      <td>How was the reservoir's water level and volume...</td>\n",
       "      <td>Llyn Ffynnon-y-gwas –  high,  – lies in Cwm Tr...</td>\n",
       "    </tr>\n",
       "    <tr>\n",
       "      <th>1</th>\n",
       "      <td>q20231101.en_49708_58</td>\n",
       "      <td>20231101.en_49708_58</td>\n",
       "      <td>When did Xi Jinping and Ma Ying-jeou first for...</td>\n",
       "      <td>Who were the leaders that participated in the ...</td>\n",
       "      <td>November 7 – CPC general secretary Xi Jinping ...</td>\n",
       "    </tr>\n",
       "    <tr>\n",
       "      <th>2</th>\n",
       "      <td>q20231101.en_237746_29</td>\n",
       "      <td>20231101.en_237746_29</td>\n",
       "      <td>What is excited delirium and how is it related...</td>\n",
       "      <td>What factors or pre-existing conditions make i...</td>\n",
       "      <td>Some of the deaths associated with TASER devic...</td>\n",
       "    </tr>\n",
       "    <tr>\n",
       "      <th>3</th>\n",
       "      <td>q20231101.en_15809706_5</td>\n",
       "      <td>20231101.en_15809706_5</td>\n",
       "      <td>What is the incidence rate of thyroid tumors i...</td>\n",
       "      <td>What was the relationship between pre-existing...</td>\n",
       "      <td>At exposures eight times greater than those us...</td>\n",
       "    </tr>\n",
       "    <tr>\n",
       "      <th>4</th>\n",
       "      <td>q20231101.en_233369_67</td>\n",
       "      <td>20231101.en_233369_67</td>\n",
       "      <td>What types of sweets are made in Nablus?</td>\n",
       "      <td>What ingredients are used to make ghuraybeh pa...</td>\n",
       "      <td>Other sweets made in Nablus include baklawa, \"...</td>\n",
       "    </tr>\n",
       "  </tbody>\n",
       "</table>\n",
       "</div>"
      ],
      "text/plain": [
       "                  query-id               corpus-id  \\\n",
       "0   q20231101.en_189891_13   20231101.en_189891_13   \n",
       "1    q20231101.en_49708_58    20231101.en_49708_58   \n",
       "2   q20231101.en_237746_29   20231101.en_237746_29   \n",
       "3  q20231101.en_15809706_5  20231101.en_15809706_5   \n",
       "4   q20231101.en_233369_67   20231101.en_233369_67   \n",
       "\n",
       "                                       og_query_text  \\\n",
       "0  What is the significance of Llyn Ffynnon-y-gwa...   \n",
       "1  When did Xi Jinping and Ma Ying-jeou first for...   \n",
       "2  What is excited delirium and how is it related...   \n",
       "3  What is the incidence rate of thyroid tumors i...   \n",
       "4           What types of sweets are made in Nablus?   \n",
       "\n",
       "                                      gen_query_text  \\\n",
       "0  How was the reservoir's water level and volume...   \n",
       "1  Who were the leaders that participated in the ...   \n",
       "2  What factors or pre-existing conditions make i...   \n",
       "3  What was the relationship between pre-existing...   \n",
       "4  What ingredients are used to make ghuraybeh pa...   \n",
       "\n",
       "                                         corpus_text  \n",
       "0  Llyn Ffynnon-y-gwas –  high,  – lies in Cwm Tr...  \n",
       "1  November 7 – CPC general secretary Xi Jinping ...  \n",
       "2  Some of the deaths associated with TASER devic...  \n",
       "3  At exposures eight times greater than those us...  \n",
       "4  Other sweets made in Nablus include baklawa, \"...  "
      ]
     },
     "execution_count": 21,
     "metadata": {},
     "output_type": "execute_result"
    }
   ],
   "source": [
    "full_qrels = pd.read_parquet(\"generated_all/full_qrels.parquet\")\n",
    "full_qrels.head()"
   ]
  },
  {
   "cell_type": "code",
   "execution_count": 24,
   "metadata": {},
   "outputs": [],
   "source": [
    "og_queries_text = full_qrels[\"og_query_text\"].tolist()\n",
    "all_queries_ids = full_qrels[\"query-id\"].tolist()\n",
    "gen_queries_text = full_qrels[\"gen_query_text\"].tolist()"
   ]
  },
  {
   "cell_type": "code",
   "execution_count": 24,
   "metadata": {},
   "outputs": [
    {
     "name": "stderr",
     "output_type": "stream",
     "text": [
      "Processing queries: 100%|██████████| 1500/1500 [10:50<00:00,  2.31it/s] \n"
     ]
    }
   ],
   "source": [
    "for query_id, query_info in tqdm(query_corpus_dict.items(), desc=\"Processing queries\"):\n",
    "    if query_id not in gen_query_corpus_dict:\n",
    "        generated_query = get_claude_queries(query_info[\"query_text\"], query_info[\"corpus_text\"])\n",
    "        gen_query_corpus_dict[query_id] = {\n",
    "            \"original_query\": query_info[\"query_text\"],\n",
    "            \"corpus_text\": query_info[\"corpus_text\"],\n",
    "            \"generated_query\": generated_query\n",
    "        }"
   ]
  },
  {
   "cell_type": "code",
   "execution_count": 25,
   "metadata": {},
   "outputs": [
    {
     "data": {
      "text/plain": [
       "1500"
      ]
     },
     "execution_count": 25,
     "metadata": {},
     "output_type": "execute_result"
    }
   ],
   "source": [
    "len(gen_query_corpus_dict.keys())"
   ]
  },
  {
   "cell_type": "code",
   "execution_count": 26,
   "metadata": {},
   "outputs": [],
   "source": [
    "gen_queries_text = [gen_query_corpus_dict[query_id][\"generated_query\"] for query_id in all_queries_ids]"
   ]
  },
  {
   "cell_type": "markdown",
   "metadata": {},
   "source": [
    "## Generate 1500 queries: text-embedding-3-small"
   ]
  },
  {
   "cell_type": "markdown",
   "metadata": {},
   "source": [
    "#### 1. Run benchmark over ground truth queries"
   ]
  },
  {
   "cell_type": "markdown",
   "metadata": {},
   "source": [
    "just to confirm results"
   ]
  },
  {
   "cell_type": "code",
   "execution_count": 64,
   "metadata": {},
   "outputs": [],
   "source": [
    "openai_small_col = chroma_client.get_collection(\"openai_small\")\n",
    "\n",
    "openai_client = OpenAI(api_key=\"\")\n",
    "\n",
    "def openai_embed_batch_query(texts: List[str], model: str) -> List[List[float]]:\n",
    "    return [d.embedding for d in openai_client.embeddings.create(model=model, input = texts).data]\n",
    "\n",
    "def openai_process_in_batches(texts: List[str], model: str, batch_size: int = 100) -> List[List[float]]:\n",
    "    all_embeddings = []\n",
    "\n",
    "    for i in tqdm(range(0, len(texts), batch_size), desc=\"Processing openai batches\"):\n",
    "        batch = texts[i:i + batch_size]\n",
    "        batch_embeddings = openai_embed_batch_query(batch, model)\n",
    "        all_embeddings.extend(batch_embeddings)\n",
    "\n",
    "    return all_embeddings"
   ]
  },
  {
   "cell_type": "code",
   "execution_count": 16,
   "metadata": {},
   "outputs": [
    {
     "name": "stderr",
     "output_type": "stream",
     "text": [
      "Processing openai batches: 100%|██████████| 15/15 [00:14<00:00,  1.02it/s]\n"
     ]
    }
   ],
   "source": [
    "openai_small_queries_embeddings = openai_process_in_batches(og_queries_text, model=\"text-embedding-3-small\")\n",
    "\n",
    "openai_small_queries_embeddings_dict = {\n",
    "    query_id: embedding \n",
    "    for query_id, embedding in zip(all_queries_ids, openai_small_queries_embeddings)\n",
    "}"
   ]
  },
  {
   "cell_type": "code",
   "execution_count": 10,
   "metadata": {},
   "outputs": [
    {
     "name": "stderr",
     "output_type": "stream",
     "text": [
      "Processing openai batches: 100%|██████████| 15/15 [00:16<00:00,  1.10s/it]\n",
      "Processing batches: 100%|██████████| 135/135 [05:33<00:00,  2.47s/it]\n",
      "Processing batches: 100%|██████████| 15/15 [00:39<00:00,  2.62s/it]\n"
     ]
    },
    {
     "data": {
      "text/plain": [
       "{'NDCG': {'NDCG@1': 0.84333,\n",
       "  'NDCG@3': 0.90255,\n",
       "  'NDCG@5': 0.9115,\n",
       "  'NDCG@10': 0.91945},\n",
       " 'MAP': {'MAP@1': 0.84333, 'MAP@3': 0.888, 'MAP@5': 0.8929, 'MAP@10': 0.89641},\n",
       " 'Recall': {'Recall@1': 0.84333,\n",
       "  'Recall@3': 0.94467,\n",
       "  'Recall@5': 0.96667,\n",
       "  'Recall@10': 0.99},\n",
       " 'Precision': {'P@1': 0.84333, 'P@3': 0.31489, 'P@5': 0.19333, 'P@10': 0.099}}"
      ]
     },
     "execution_count": 10,
     "metadata": {},
     "output_type": "execute_result"
    }
   ],
   "source": [
    "openai_small_corpus_embeddings_dict = {}\n",
    "\n",
    "for i in tqdm(range(0, len(all_corpus_ids), batch_size), desc=\"Processing batches\"):\n",
    "    batch_ids = all_corpus_ids[i:i + batch_size]\n",
    "    results = openai_small_col.get(ids=batch_ids, include=[\"embeddings\"])\n",
    "    batch_embeddings = results[\"embeddings\"]\n",
    "    retrieved_ids = results[\"ids\"]\n",
    "    \n",
    "    for corpus_id, embedding in zip(retrieved_ids, batch_embeddings):\n",
    "        openai_small_corpus_embeddings_dict[corpus_id] = embedding\n",
    "\n",
    "openai_small_entire_benchmark_results = new_get_results(openai_small_col, og_queries_text, all_queries_ids, openai_small_queries_embeddings)\n",
    "openai_small_entire_benchmark_metrics = evaluate_new(k_values, all_qrels_df, openai_small_entire_benchmark_results)\n",
    "\n",
    "with open(\"generated_all/openai_small_original_metrics.json\", \"w\") as f:\n",
    "    json.dump(openai_small_entire_benchmark_metrics, f, indent=4)\n",
    "\n",
    "openai_small_entire_benchmark_metrics"
   ]
  },
  {
   "cell_type": "code",
   "execution_count": 115,
   "metadata": {},
   "outputs": [
    {
     "data": {
      "text/html": [
       "<div>\n",
       "<style scoped>\n",
       "    .dataframe tbody tr th:only-of-type {\n",
       "        vertical-align: middle;\n",
       "    }\n",
       "\n",
       "    .dataframe tbody tr th {\n",
       "        vertical-align: top;\n",
       "    }\n",
       "\n",
       "    .dataframe thead th {\n",
       "        text-align: right;\n",
       "    }\n",
       "</style>\n",
       "<table border=\"1\" class=\"dataframe\">\n",
       "  <thead>\n",
       "    <tr style=\"text-align: right;\">\n",
       "      <th></th>\n",
       "      <th>NDCG@1</th>\n",
       "      <th>NDCG@3</th>\n",
       "      <th>NDCG@5</th>\n",
       "      <th>NDCG@10</th>\n",
       "      <th>MAP@1</th>\n",
       "      <th>MAP@3</th>\n",
       "      <th>MAP@5</th>\n",
       "      <th>MAP@10</th>\n",
       "      <th>Recall@1</th>\n",
       "      <th>Recall@3</th>\n",
       "      <th>Recall@5</th>\n",
       "      <th>Recall@10</th>\n",
       "      <th>P@1</th>\n",
       "      <th>P@3</th>\n",
       "      <th>P@5</th>\n",
       "      <th>P@10</th>\n",
       "    </tr>\n",
       "  </thead>\n",
       "  <tbody>\n",
       "    <tr>\n",
       "      <th>0</th>\n",
       "      <td>0.84333</td>\n",
       "      <td>0.90255</td>\n",
       "      <td>0.9115</td>\n",
       "      <td>0.91945</td>\n",
       "      <td>0.84333</td>\n",
       "      <td>0.888</td>\n",
       "      <td>0.8929</td>\n",
       "      <td>0.89641</td>\n",
       "      <td>0.84333</td>\n",
       "      <td>0.94467</td>\n",
       "      <td>0.96667</td>\n",
       "      <td>0.99</td>\n",
       "      <td>0.84333</td>\n",
       "      <td>0.31489</td>\n",
       "      <td>0.19333</td>\n",
       "      <td>0.099</td>\n",
       "    </tr>\n",
       "  </tbody>\n",
       "</table>\n",
       "</div>"
      ],
      "text/plain": [
       "    NDCG@1   NDCG@3  NDCG@5  NDCG@10    MAP@1  MAP@3   MAP@5   MAP@10  Recall@1  Recall@3  Recall@5  Recall@10      P@1      P@3      P@5   P@10\n",
       "0  0.84333  0.90255  0.9115  0.91945  0.84333  0.888  0.8929  0.89641   0.84333   0.94467   0.96667       0.99  0.84333  0.31489  0.19333  0.099"
      ]
     },
     "execution_count": 115,
     "metadata": {},
     "output_type": "execute_result"
    }
   ],
   "source": [
    "openai_small_entire_benchmark_metrics_df = pd.DataFrame.from_dict({\n",
    "    k: [value]\n",
    "    for metrics in openai_small_entire_benchmark_metrics.values() \n",
    "    for k, value in metrics.items()\n",
    "})\n",
    "openai_small_entire_benchmark_metrics_df"
   ]
  },
  {
   "cell_type": "code",
   "execution_count": null,
   "metadata": {},
   "outputs": [],
   "source": [
    "openai_small_scores_df = calculate_similarity_scores(\n",
    "    openai_small_queries_embeddings_dict,\n",
    "    openai_small_corpus_embeddings_dict,\n",
    "    \"generated_all/openai_small_original_distribution.parquet\"\n",
    ")\n",
    "\n",
    "openai_small_scores_df"
   ]
  },
  {
   "cell_type": "markdown",
   "metadata": {},
   "source": [
    "#### 2. Run over 1500 generated queries"
   ]
  },
  {
   "cell_type": "code",
   "execution_count": null,
   "metadata": {},
   "outputs": [
    {
     "name": "stderr",
     "output_type": "stream",
     "text": [
      "Processing openai batches: 100%|██████████| 15/15 [00:14<00:00,  1.01it/s]\n",
      "Processing batches: 100%|██████████| 15/15 [00:23<00:00,  1.58s/it]\n"
     ]
    },
    {
     "data": {
      "text/plain": [
       "{'NDCG': {'NDCG@1': 0.886,\n",
       "  'NDCG@3': 0.93412,\n",
       "  'NDCG@5': 0.94043,\n",
       "  'NDCG@10': 0.94345},\n",
       " 'MAP': {'MAP@1': 0.886, 'MAP@3': 0.923, 'MAP@5': 0.9265, 'MAP@10': 0.92774},\n",
       " 'Recall': {'Recall@1': 0.886,\n",
       "  'Recall@3': 0.966,\n",
       "  'Recall@5': 0.98133,\n",
       "  'Recall@10': 0.99067},\n",
       " 'Precision': {'P@1': 0.886, 'P@3': 0.322, 'P@5': 0.19627, 'P@10': 0.09907}}"
      ]
     },
     "execution_count": 34,
     "metadata": {},
     "output_type": "execute_result"
    }
   ],
   "source": [
    "openai_small_gen_queries_embeddings = openai_process_in_batches(gen_queries_text, model=\"text-embedding-3-small\")\n",
    "\n",
    "openai_small_gen_queries_embeddings_dict = {\n",
    "    query_id: embedding \n",
    "    for query_id, embedding in zip(all_queries_ids, openai_small_gen_queries_embeddings)\n",
    "}\n",
    "\n",
    "openai_small_gen_results = new_get_results(openai_small_col, gen_queries_text, all_queries_ids, openai_small_gen_queries_embeddings)\n",
    "openai_small_gen_metrics = evaluate_new(k_values, all_qrels_df, openai_small_gen_results)\n",
    "\n",
    "with open(\"generated_all/openai_small_gen_metrics.json\", \"w\") as f:\n",
    "    json.dump(openai_small_gen_metrics, f, indent=4)\n",
    "\n",
    "openai_small_gen_metrics"
   ]
  },
  {
   "cell_type": "code",
   "execution_count": 114,
   "metadata": {},
   "outputs": [
    {
     "data": {
      "text/html": [
       "<div>\n",
       "<style scoped>\n",
       "    .dataframe tbody tr th:only-of-type {\n",
       "        vertical-align: middle;\n",
       "    }\n",
       "\n",
       "    .dataframe tbody tr th {\n",
       "        vertical-align: top;\n",
       "    }\n",
       "\n",
       "    .dataframe thead th {\n",
       "        text-align: right;\n",
       "    }\n",
       "</style>\n",
       "<table border=\"1\" class=\"dataframe\">\n",
       "  <thead>\n",
       "    <tr style=\"text-align: right;\">\n",
       "      <th></th>\n",
       "      <th>NDCG@1</th>\n",
       "      <th>NDCG@3</th>\n",
       "      <th>NDCG@5</th>\n",
       "      <th>NDCG@10</th>\n",
       "      <th>MAP@1</th>\n",
       "      <th>MAP@3</th>\n",
       "      <th>MAP@5</th>\n",
       "      <th>MAP@10</th>\n",
       "      <th>Recall@1</th>\n",
       "      <th>Recall@3</th>\n",
       "      <th>Recall@5</th>\n",
       "      <th>Recall@10</th>\n",
       "      <th>P@1</th>\n",
       "      <th>P@3</th>\n",
       "      <th>P@5</th>\n",
       "      <th>P@10</th>\n",
       "    </tr>\n",
       "  </thead>\n",
       "  <tbody>\n",
       "    <tr>\n",
       "      <th>0</th>\n",
       "      <td>0.886</td>\n",
       "      <td>0.93412</td>\n",
       "      <td>0.94043</td>\n",
       "      <td>0.94345</td>\n",
       "      <td>0.886</td>\n",
       "      <td>0.923</td>\n",
       "      <td>0.9265</td>\n",
       "      <td>0.92774</td>\n",
       "      <td>0.886</td>\n",
       "      <td>0.966</td>\n",
       "      <td>0.98133</td>\n",
       "      <td>0.99067</td>\n",
       "      <td>0.886</td>\n",
       "      <td>0.322</td>\n",
       "      <td>0.19627</td>\n",
       "      <td>0.09907</td>\n",
       "    </tr>\n",
       "  </tbody>\n",
       "</table>\n",
       "</div>"
      ],
      "text/plain": [
       "   NDCG@1   NDCG@3   NDCG@5  NDCG@10  MAP@1  MAP@3   MAP@5   MAP@10  Recall@1  Recall@3  Recall@5  Recall@10    P@1    P@3      P@5     P@10\n",
       "0   0.886  0.93412  0.94043  0.94345  0.886  0.923  0.9265  0.92774     0.886     0.966   0.98133    0.99067  0.886  0.322  0.19627  0.09907"
      ]
     },
     "execution_count": 114,
     "metadata": {},
     "output_type": "execute_result"
    }
   ],
   "source": [
    "openai_small_gen_metrics_df = pd.DataFrame.from_dict({\n",
    "    k: [value]\n",
    "    for metrics in openai_small_gen_metrics.values() \n",
    "    for k, value in metrics.items()\n",
    "})\n",
    "openai_small_gen_metrics_df"
   ]
  },
  {
   "cell_type": "code",
   "execution_count": 118,
   "metadata": {},
   "outputs": [
    {
     "data": {
      "text/html": [
       "<div>\n",
       "<style scoped>\n",
       "    .dataframe tbody tr th:only-of-type {\n",
       "        vertical-align: middle;\n",
       "    }\n",
       "\n",
       "    .dataframe tbody tr th {\n",
       "        vertical-align: top;\n",
       "    }\n",
       "\n",
       "    .dataframe thead th {\n",
       "        text-align: right;\n",
       "    }\n",
       "</style>\n",
       "<table border=\"1\" class=\"dataframe\">\n",
       "  <thead>\n",
       "    <tr style=\"text-align: right;\">\n",
       "      <th></th>\n",
       "      <th>type</th>\n",
       "      <th>NDCG@1</th>\n",
       "      <th>NDCG@3</th>\n",
       "      <th>NDCG@5</th>\n",
       "      <th>NDCG@10</th>\n",
       "      <th>MAP@3</th>\n",
       "      <th>MAP@5</th>\n",
       "      <th>MAP@10</th>\n",
       "      <th>Recall@3</th>\n",
       "      <th>Recall@5</th>\n",
       "      <th>Recall@10</th>\n",
       "      <th>P@3</th>\n",
       "      <th>P@5</th>\n",
       "      <th>P@10</th>\n",
       "    </tr>\n",
       "  </thead>\n",
       "  <tbody>\n",
       "    <tr>\n",
       "      <th>0</th>\n",
       "      <td>original</td>\n",
       "      <td>0.84333</td>\n",
       "      <td>0.90255</td>\n",
       "      <td>0.91150</td>\n",
       "      <td>0.91945</td>\n",
       "      <td>0.888</td>\n",
       "      <td>0.8929</td>\n",
       "      <td>0.89641</td>\n",
       "      <td>0.94467</td>\n",
       "      <td>0.96667</td>\n",
       "      <td>0.99000</td>\n",
       "      <td>0.31489</td>\n",
       "      <td>0.19333</td>\n",
       "      <td>0.09900</td>\n",
       "    </tr>\n",
       "    <tr>\n",
       "      <th>0</th>\n",
       "      <td>generated</td>\n",
       "      <td>0.88600</td>\n",
       "      <td>0.93412</td>\n",
       "      <td>0.94043</td>\n",
       "      <td>0.94345</td>\n",
       "      <td>0.923</td>\n",
       "      <td>0.9265</td>\n",
       "      <td>0.92774</td>\n",
       "      <td>0.96600</td>\n",
       "      <td>0.98133</td>\n",
       "      <td>0.99067</td>\n",
       "      <td>0.32200</td>\n",
       "      <td>0.19627</td>\n",
       "      <td>0.09907</td>\n",
       "    </tr>\n",
       "  </tbody>\n",
       "</table>\n",
       "</div>"
      ],
      "text/plain": [
       "        type   NDCG@1   NDCG@3   NDCG@5  NDCG@10  MAP@3   MAP@5   MAP@10  Recall@3  Recall@5  Recall@10      P@3      P@5     P@10\n",
       "0   original  0.84333  0.90255  0.91150  0.91945  0.888  0.8929  0.89641   0.94467   0.96667    0.99000  0.31489  0.19333  0.09900\n",
       "0  generated  0.88600  0.93412  0.94043  0.94345  0.923  0.9265  0.92774   0.96600   0.98133    0.99067  0.32200  0.19627  0.09907"
      ]
     },
     "execution_count": 118,
     "metadata": {},
     "output_type": "execute_result"
    }
   ],
   "source": [
    "openai_small_combined_metrics_df = pd.concat([\n",
    "    openai_small_entire_benchmark_metrics_df.assign(type=\"original\"),\n",
    "    openai_small_gen_metrics_df.assign(type=\"generated\")\n",
    "])\n",
    "openai_small_combined_metrics_df = openai_small_combined_metrics_df[[\"type\", \"NDCG@1\", \"NDCG@3\", \"NDCG@5\", \"NDCG@10\", \"MAP@3\", \"MAP@5\", \"MAP@10\", \"Recall@3\", \"Recall@5\", \"Recall@10\", \"P@3\", \"P@5\", \"P@10\"]]\n",
    "openai_small_combined_metrics_df\n"
   ]
  },
  {
   "cell_type": "code",
   "execution_count": 119,
   "metadata": {},
   "outputs": [],
   "source": [
    "openai_small_combined_metrics_df.to_csv(\"generated_all/openai_small_combined_metrics.csv\", index=False)"
   ]
  },
  {
   "cell_type": "code",
   "execution_count": null,
   "metadata": {},
   "outputs": [],
   "source": [
    "openai_small_gen_scores_df = calculate_similarity_scores(\n",
    "    openai_small_gen_queries_embeddings_dict,\n",
    "    openai_small_corpus_embeddings_dict,\n",
    "    \"generated_all/openai_small_generated_distribution.parquet\"\n",
    ")\n",
    "\n",
    "openai_small_gen_scores_df"
   ]
  },
  {
   "cell_type": "code",
   "execution_count": 58,
   "metadata": {},
   "outputs": [],
   "source": [
    "openai_small_gen_scores_df = pd.read_parquet(\"generated_all/openai_small_generated_distribution.parquet\")"
   ]
  },
  {
   "cell_type": "code",
   "execution_count": 60,
   "metadata": {},
   "outputs": [],
   "source": [
    "openai_small_scores_df = pd.read_parquet(\"generated_all/openai_small_original_distribution.parquet\")"
   ]
  },
  {
   "cell_type": "markdown",
   "metadata": {},
   "source": [
    "#### 3. Compare"
   ]
  },
  {
   "cell_type": "code",
   "execution_count": 61,
   "metadata": {},
   "outputs": [],
   "source": [
    "min_score = min(openai_small_gen_scores_df[\"score\"].min(), openai_small_scores_df[\"score\"].min())\n",
    "max_score = max(openai_small_gen_scores_df[\"score\"].max(), openai_small_scores_df[\"score\"].max())"
   ]
  },
  {
   "cell_type": "code",
   "execution_count": 62,
   "metadata": {},
   "outputs": [
    {
     "data": {
      "image/png": "[encoded data removed]",
      "text/plain": [
       "<Figure size 800x500 with 1 Axes>"
      ]
     },
     "metadata": {},
     "output_type": "display_data"
    }
   ],
   "source": [
    "bins=30\n",
    "\n",
    "plt.figure(figsize=(8, 5))\n",
    "\n",
    "plt.hist(openai_small_scores_df[\"score\"], bins=bins, alpha=0.5,  edgecolor='black', label=\"Original\", range=(min_score, max_score), density=True)\n",
    "plt.hist(openai_small_gen_scores_df[\"score\"], bins=bins, alpha=0.5, edgecolor='black', label=\"Generated\", range=(min_score, max_score), density=True)\n",
    "\n",
    "plt.xlabel(\"Cosine Similarity\")\n",
    "plt.ylabel(\"Normalized Frequency\")\n",
    "\n",
    "plt.title(\"text-embeddings-3-small (1500 Queries, 13500 Documents)\")\n",
    "plt.legend()\n",
    "plt.grid(True)\n",
    "plt.show()"
   ]
  },
  {
   "cell_type": "code",
   "execution_count": 46,
   "metadata": {},
   "outputs": [],
   "source": [
    "openai_small_merged_df = pd.merge(openai_small_scores_df, openai_small_gen_scores_df, on=\"query-id\", how=\"left\")"
   ]
  },
  {
   "cell_type": "code",
   "execution_count": null,
   "metadata": {},
   "outputs": [],
   "source": [
    "openai_small_merged_df.drop(columns=[\"corpus-id_y\"], inplace=True)\n",
    "openai_small_merged_df.rename(columns={\"score_x\": \"og_score\", \"score_y\": \"gen_score\"}, inplace=True)"
   ]
  },
  {
   "cell_type": "code",
   "execution_count": null,
   "metadata": {},
   "outputs": [],
   "source": [
    "openai_small_merged_df.rename(columns={\"corpus-id_x\": \"corpus-id\"}, inplace=True)\n",
    "\n",
    "openai_small_merged_df[\"og_query_text\"] = openai_small_merged_df[\"query-id\"].map(lambda x: gen_query_corpus_dict[x][\"original_query\"])\n",
    "openai_small_merged_df[\"gen_query_text\"] = openai_small_merged_df[\"query-id\"].map(lambda x: gen_query_corpus_dict[x][\"generated_query\"]) \n",
    "openai_small_merged_df[\"corpus_text\"] = openai_small_merged_df[\"query-id\"].map(lambda x: gen_query_corpus_dict[x][\"corpus_text\"])\n",
    "openai_small_merged_df"
   ]
  },
  {
   "cell_type": "code",
   "execution_count": null,
   "metadata": {},
   "outputs": [],
   "source": [
    "openai_small_merged_df[\"og - gen\"] = openai_small_merged_df[\"og_score\"] - openai_small_merged_df[\"gen_score\"]"
   ]
  },
  {
   "cell_type": "code",
   "execution_count": 64,
   "metadata": {},
   "outputs": [
    {
     "data": {
      "text/html": [
       "<div>\n",
       "<style scoped>\n",
       "    .dataframe tbody tr th:only-of-type {\n",
       "        vertical-align: middle;\n",
       "    }\n",
       "\n",
       "    .dataframe tbody tr th {\n",
       "        vertical-align: top;\n",
       "    }\n",
       "\n",
       "    .dataframe thead th {\n",
       "        text-align: right;\n",
       "    }\n",
       "</style>\n",
       "<table border=\"1\" class=\"dataframe\">\n",
       "  <thead>\n",
       "    <tr style=\"text-align: right;\">\n",
       "      <th></th>\n",
       "      <th>og_score</th>\n",
       "      <th>gen_score</th>\n",
       "      <th>og - gen</th>\n",
       "    </tr>\n",
       "  </thead>\n",
       "  <tbody>\n",
       "    <tr>\n",
       "      <th>count</th>\n",
       "      <td>1500.000000</td>\n",
       "      <td>1500.000000</td>\n",
       "      <td>1500.000000</td>\n",
       "    </tr>\n",
       "    <tr>\n",
       "      <th>mean</th>\n",
       "      <td>0.720881</td>\n",
       "      <td>0.689518</td>\n",
       "      <td>0.031363</td>\n",
       "    </tr>\n",
       "    <tr>\n",
       "      <th>std</th>\n",
       "      <td>0.090178</td>\n",
       "      <td>0.084244</td>\n",
       "      <td>0.092567</td>\n",
       "    </tr>\n",
       "    <tr>\n",
       "      <th>min</th>\n",
       "      <td>0.050205</td>\n",
       "      <td>0.295958</td>\n",
       "      <td>-0.329168</td>\n",
       "    </tr>\n",
       "    <tr>\n",
       "      <th>25%</th>\n",
       "      <td>0.679621</td>\n",
       "      <td>0.642664</td>\n",
       "      <td>-0.023348</td>\n",
       "    </tr>\n",
       "    <tr>\n",
       "      <th>50%</th>\n",
       "      <td>0.737320</td>\n",
       "      <td>0.699701</td>\n",
       "      <td>0.033589</td>\n",
       "    </tr>\n",
       "    <tr>\n",
       "      <th>75%</th>\n",
       "      <td>0.782374</td>\n",
       "      <td>0.748349</td>\n",
       "      <td>0.086817</td>\n",
       "    </tr>\n",
       "    <tr>\n",
       "      <th>max</th>\n",
       "      <td>0.911743</td>\n",
       "      <td>0.896469</td>\n",
       "      <td>0.373702</td>\n",
       "    </tr>\n",
       "  </tbody>\n",
       "</table>\n",
       "</div>"
      ],
      "text/plain": [
       "          og_score    gen_score     og - gen\n",
       "count  1500.000000  1500.000000  1500.000000\n",
       "mean      0.720881     0.689518     0.031363\n",
       "std       0.090178     0.084244     0.092567\n",
       "min       0.050205     0.295958    -0.329168\n",
       "25%       0.679621     0.642664    -0.023348\n",
       "50%       0.737320     0.699701     0.033589\n",
       "75%       0.782374     0.748349     0.086817\n",
       "max       0.911743     0.896469     0.373702"
      ]
     },
     "execution_count": 64,
     "metadata": {},
     "output_type": "execute_result"
    }
   ],
   "source": [
    "openai_small_merged_df.describe()"
   ]
  },
  {
   "cell_type": "code",
   "execution_count": null,
   "metadata": {},
   "outputs": [],
   "source": [
    "openai_small_merged_df"
   ]
  },
  {
   "cell_type": "code",
   "execution_count": 22,
   "metadata": {},
   "outputs": [],
   "source": [
    "generated_queries = openai_small_merged_df[\"gen_query_text\"].tolist()\n",
    "gen_query_ids = openai_small_merged_df[\"query-id\"].tolist()"
   ]
  },
  {
   "cell_type": "code",
   "execution_count": 23,
   "metadata": {},
   "outputs": [
    {
     "name": "stderr",
     "output_type": "stream",
     "text": [
      "Processing openai batches: 100%|██████████| 15/15 [00:29<00:00,  1.93s/it]\n"
     ]
    }
   ],
   "source": [
    "gen_queries_embeddings = openai_process_in_batches(generated_queries, model=\"text-embedding-3-small\")\n",
    "gen_queries_embeddings_dict = {\n",
    "    query_id: embedding \n",
    "    for query_id, embedding in zip(gen_query_ids, gen_queries_embeddings)\n",
    "}"
   ]
  },
  {
   "cell_type": "code",
   "execution_count": 24,
   "metadata": {},
   "outputs": [
    {
     "name": "stderr",
     "output_type": "stream",
     "text": [
      "100%|██████████| 1500/1500 [03:03<00:00,  8.19it/s]\n"
     ]
    }
   ],
   "source": [
    "tqdm.pandas()\n",
    "openai_small_merged_df[\"gen_query_result\"] = openai_small_merged_df.progress_apply(lambda row: query(openai_small_col, gen_queries_embeddings_dict, row[\"query-id\"]), axis=1)"
   ]
  },
  {
   "cell_type": "code",
   "execution_count": 28,
   "metadata": {},
   "outputs": [
    {
     "data": {
      "text/html": [
       "<div>\n",
       "<style scoped>\n",
       "    .dataframe tbody tr th:only-of-type {\n",
       "        vertical-align: middle;\n",
       "    }\n",
       "\n",
       "    .dataframe tbody tr th {\n",
       "        vertical-align: top;\n",
       "    }\n",
       "\n",
       "    .dataframe thead th {\n",
       "        text-align: right;\n",
       "    }\n",
       "</style>\n",
       "<table border=\"1\" class=\"dataframe\">\n",
       "  <thead>\n",
       "    <tr style=\"text-align: right;\">\n",
       "      <th></th>\n",
       "      <th>query-id</th>\n",
       "      <th>corpus-id</th>\n",
       "      <th>og_score</th>\n",
       "      <th>gen_score</th>\n",
       "      <th>og_query_text</th>\n",
       "      <th>gen_query_text</th>\n",
       "      <th>corpus_text</th>\n",
       "      <th>og - gen</th>\n",
       "      <th>og_query_result</th>\n",
       "      <th>gen_query_result</th>\n",
       "      <th>og_success</th>\n",
       "      <th>gen_success</th>\n",
       "    </tr>\n",
       "  </thead>\n",
       "  <tbody>\n",
       "    <tr>\n",
       "      <th>0</th>\n",
       "      <td>q20231101.en_189891_13</td>\n",
       "      <td>20231101.en_189891_13</td>\n",
       "      <td>0.749034</td>\n",
       "      <td>0.375332</td>\n",
       "      <td>What is the significance of Llyn Ffynnon-y-gwa...</td>\n",
       "      <td>How was the reservoir's water level and volume...</td>\n",
       "      <td>Llyn Ffynnon-y-gwas –  high,  – lies in Cwm Tr...</td>\n",
       "      <td>0.373702</td>\n",
       "      <td>20231101.en_189891_13, score: 0.74904608726501...</td>\n",
       "      <td>20231101.en_1050149_7, score: 0.51412093639373...</td>\n",
       "      <td>True</td>\n",
       "      <td>False</td>\n",
       "    </tr>\n",
       "    <tr>\n",
       "      <th>1</th>\n",
       "      <td>q20231101.en_49708_58</td>\n",
       "      <td>20231101.en_49708_58</td>\n",
       "      <td>0.779723</td>\n",
       "      <td>0.433520</td>\n",
       "      <td>When did Xi Jinping and Ma Ying-jeou first for...</td>\n",
       "      <td>Who were the leaders that participated in the ...</td>\n",
       "      <td>November 7 – CPC general secretary Xi Jinping ...</td>\n",
       "      <td>0.346203</td>\n",
       "      <td>20231101.en_49708_58, score: 0.779713749885559...</td>\n",
       "      <td>20231101.en_49708_58, score: 0.430175304412841...</td>\n",
       "      <td>True</td>\n",
       "      <td>True</td>\n",
       "    </tr>\n",
       "    <tr>\n",
       "      <th>2</th>\n",
       "      <td>q20231101.en_237746_29</td>\n",
       "      <td>20231101.en_237746_29</td>\n",
       "      <td>0.842045</td>\n",
       "      <td>0.514026</td>\n",
       "      <td>What is excited delirium and how is it related...</td>\n",
       "      <td>What factors or pre-existing conditions make i...</td>\n",
       "      <td>Some of the deaths associated with TASER devic...</td>\n",
       "      <td>0.328019</td>\n",
       "      <td>20231101.en_237746_29, score: 0.84205657243728...</td>\n",
       "      <td>20231101.en_237746_30, score: 0.64148318767547...</td>\n",
       "      <td>True</td>\n",
       "      <td>False</td>\n",
       "    </tr>\n",
       "    <tr>\n",
       "      <th>3</th>\n",
       "      <td>q20231101.en_15809706_5</td>\n",
       "      <td>20231101.en_15809706_5</td>\n",
       "      <td>0.836615</td>\n",
       "      <td>0.512268</td>\n",
       "      <td>What is the incidence rate of thyroid tumors i...</td>\n",
       "      <td>What was the relationship between pre-existing...</td>\n",
       "      <td>At exposures eight times greater than those us...</td>\n",
       "      <td>0.324347</td>\n",
       "      <td>20231101.en_15809706_5, score: 0.8365775942802...</td>\n",
       "      <td>20231101.en_15809706_5, score: 0.5122533440589...</td>\n",
       "      <td>True</td>\n",
       "      <td>True</td>\n",
       "    </tr>\n",
       "    <tr>\n",
       "      <th>4</th>\n",
       "      <td>q20231101.en_233369_67</td>\n",
       "      <td>20231101.en_233369_67</td>\n",
       "      <td>0.879577</td>\n",
       "      <td>0.569303</td>\n",
       "      <td>What types of sweets are made in Nablus?</td>\n",
       "      <td>What ingredients are used to make ghuraybeh pa...</td>\n",
       "      <td>Other sweets made in Nablus include baklawa, \"...</td>\n",
       "      <td>0.310274</td>\n",
       "      <td>20231101.en_233369_67, score: 0.87957692146301...</td>\n",
       "      <td>20231101.en_233369_67, score: 0.56935441493988...</td>\n",
       "      <td>True</td>\n",
       "      <td>True</td>\n",
       "    </tr>\n",
       "  </tbody>\n",
       "</table>\n",
       "</div>"
      ],
      "text/plain": [
       "                  query-id               corpus-id  og_score  gen_score  \\\n",
       "0   q20231101.en_189891_13   20231101.en_189891_13  0.749034   0.375332   \n",
       "1    q20231101.en_49708_58    20231101.en_49708_58  0.779723   0.433520   \n",
       "2   q20231101.en_237746_29   20231101.en_237746_29  0.842045   0.514026   \n",
       "3  q20231101.en_15809706_5  20231101.en_15809706_5  0.836615   0.512268   \n",
       "4   q20231101.en_233369_67   20231101.en_233369_67  0.879577   0.569303   \n",
       "\n",
       "                                       og_query_text  \\\n",
       "0  What is the significance of Llyn Ffynnon-y-gwa...   \n",
       "1  When did Xi Jinping and Ma Ying-jeou first for...   \n",
       "2  What is excited delirium and how is it related...   \n",
       "3  What is the incidence rate of thyroid tumors i...   \n",
       "4           What types of sweets are made in Nablus?   \n",
       "\n",
       "                                      gen_query_text  \\\n",
       "0  How was the reservoir's water level and volume...   \n",
       "1  Who were the leaders that participated in the ...   \n",
       "2  What factors or pre-existing conditions make i...   \n",
       "3  What was the relationship between pre-existing...   \n",
       "4  What ingredients are used to make ghuraybeh pa...   \n",
       "\n",
       "                                         corpus_text  og - gen  \\\n",
       "0  Llyn Ffynnon-y-gwas –  high,  – lies in Cwm Tr...  0.373702   \n",
       "1  November 7 – CPC general secretary Xi Jinping ...  0.346203   \n",
       "2  Some of the deaths associated with TASER devic...  0.328019   \n",
       "3  At exposures eight times greater than those us...  0.324347   \n",
       "4  Other sweets made in Nablus include baklawa, \"...  0.310274   \n",
       "\n",
       "                                     og_query_result  \\\n",
       "0  20231101.en_189891_13, score: 0.74904608726501...   \n",
       "1  20231101.en_49708_58, score: 0.779713749885559...   \n",
       "2  20231101.en_237746_29, score: 0.84205657243728...   \n",
       "3  20231101.en_15809706_5, score: 0.8365775942802...   \n",
       "4  20231101.en_233369_67, score: 0.87957692146301...   \n",
       "\n",
       "                                    gen_query_result  og_success  gen_success  \n",
       "0  20231101.en_1050149_7, score: 0.51412093639373...        True        False  \n",
       "1  20231101.en_49708_58, score: 0.430175304412841...        True         True  \n",
       "2  20231101.en_237746_30, score: 0.64148318767547...        True        False  \n",
       "3  20231101.en_15809706_5, score: 0.5122533440589...        True         True  \n",
       "4  20231101.en_233369_67, score: 0.56935441493988...        True         True  "
      ]
     },
     "execution_count": 28,
     "metadata": {},
     "output_type": "execute_result"
    }
   ],
   "source": [
    "openai_small_merged_df[\"og_success\"] = openai_small_merged_df.apply(lambda row: is_success(row[\"corpus-id\"], row[\"og_query_result\"]), axis=1)\n",
    "openai_small_merged_df[\"gen_success\"] = openai_small_merged_df.apply(lambda row: is_success(row[\"corpus-id\"], row[\"gen_query_result\"]), axis=1)\n",
    "openai_small_merged_df.head()"
   ]
  },
  {
   "cell_type": "code",
   "execution_count": 30,
   "metadata": {},
   "outputs": [
    {
     "data": {
      "text/plain": [
       "(np.float64(0.8433333333333334), np.float64(0.886))"
      ]
     },
     "execution_count": 30,
     "metadata": {},
     "output_type": "execute_result"
    }
   ],
   "source": [
    "og_success_rate = openai_small_merged_df[\"og_success\"].mean()\n",
    "gen_success_rate = openai_small_merged_df[\"gen_success\"].mean()\n",
    "og_success_rate, gen_success_rate"
   ]
  },
  {
   "cell_type": "code",
   "execution_count": 46,
   "metadata": {},
   "outputs": [],
   "source": [
    "openai_small_merged_df.sort_values(by=\"og - gen\", ascending=True, inplace=True)"
   ]
  },
  {
   "cell_type": "code",
   "execution_count": null,
   "metadata": {},
   "outputs": [],
   "source": [
    "openai_small_merged_df_gen_greater = openai_small_merged_df[openai_small_merged_df[\"og_success\"] == False][:100]\n",
    "openai_small_merged_df_gen_greater"
   ]
  },
  {
   "cell_type": "code",
   "execution_count": 48,
   "metadata": {},
   "outputs": [],
   "source": [
    "openai_small_merged_df_gen_greater.to_csv(\"generated_all/openai_small_gen_greater.csv\", index=False)"
   ]
  },
  {
   "cell_type": "markdown",
   "metadata": {},
   "source": [
    "#### (og > gen) original query is more relevant than generated query"
   ]
  },
  {
   "cell_type": "code",
   "execution_count": 71,
   "metadata": {},
   "outputs": [],
   "source": [
    "openai_small_merged_df.to_csv(\"generated_all/openai_small_merged_df.csv\", index=False)"
   ]
  },
  {
   "cell_type": "code",
   "execution_count": 114,
   "metadata": {},
   "outputs": [
    {
     "data": {
      "text/html": [
       "<div>\n",
       "<style scoped>\n",
       "    .dataframe tbody tr th:only-of-type {\n",
       "        vertical-align: middle;\n",
       "    }\n",
       "\n",
       "    .dataframe tbody tr th {\n",
       "        vertical-align: top;\n",
       "    }\n",
       "\n",
       "    .dataframe thead th {\n",
       "        text-align: right;\n",
       "    }\n",
       "</style>\n",
       "<table border=\"1\" class=\"dataframe\">\n",
       "  <thead>\n",
       "    <tr style=\"text-align: right;\">\n",
       "      <th></th>\n",
       "      <th>query-id</th>\n",
       "      <th>corpus-id</th>\n",
       "      <th>og_score</th>\n",
       "      <th>gen_score</th>\n",
       "      <th>og_query_text</th>\n",
       "      <th>gen_query_text</th>\n",
       "      <th>corpus_text</th>\n",
       "      <th>og - gen</th>\n",
       "    </tr>\n",
       "  </thead>\n",
       "  <tbody>\n",
       "    <tr>\n",
       "      <th>0</th>\n",
       "      <td>q20231101.en_189891_13</td>\n",
       "      <td>20231101.en_189891_13</td>\n",
       "      <td>0.749034</td>\n",
       "      <td>0.375332</td>\n",
       "      <td>What is the significance of Llyn Ffynnon-y-gwa...</td>\n",
       "      <td>How was the reservoir's water level and volume...</td>\n",
       "      <td>Llyn Ffynnon-y-gwas –  high,  – lies in Cwm Tr...</td>\n",
       "      <td>0.373702</td>\n",
       "    </tr>\n",
       "    <tr>\n",
       "      <th>1</th>\n",
       "      <td>q20231101.en_49708_58</td>\n",
       "      <td>20231101.en_49708_58</td>\n",
       "      <td>0.779723</td>\n",
       "      <td>0.433520</td>\n",
       "      <td>When did Xi Jinping and Ma Ying-jeou first for...</td>\n",
       "      <td>Who were the leaders that participated in the ...</td>\n",
       "      <td>November 7 – CPC general secretary Xi Jinping ...</td>\n",
       "      <td>0.346203</td>\n",
       "    </tr>\n",
       "    <tr>\n",
       "      <th>2</th>\n",
       "      <td>q20231101.en_237746_29</td>\n",
       "      <td>20231101.en_237746_29</td>\n",
       "      <td>0.842045</td>\n",
       "      <td>0.514026</td>\n",
       "      <td>What is excited delirium and how is it related...</td>\n",
       "      <td>What factors or pre-existing conditions make i...</td>\n",
       "      <td>Some of the deaths associated with TASER devic...</td>\n",
       "      <td>0.328019</td>\n",
       "    </tr>\n",
       "    <tr>\n",
       "      <th>3</th>\n",
       "      <td>q20231101.en_15809706_5</td>\n",
       "      <td>20231101.en_15809706_5</td>\n",
       "      <td>0.836615</td>\n",
       "      <td>0.512268</td>\n",
       "      <td>What is the incidence rate of thyroid tumors i...</td>\n",
       "      <td>What was the relationship between pre-existing...</td>\n",
       "      <td>At exposures eight times greater than those us...</td>\n",
       "      <td>0.324347</td>\n",
       "    </tr>\n",
       "    <tr>\n",
       "      <th>4</th>\n",
       "      <td>q20231101.en_233369_67</td>\n",
       "      <td>20231101.en_233369_67</td>\n",
       "      <td>0.879577</td>\n",
       "      <td>0.569303</td>\n",
       "      <td>What types of sweets are made in Nablus?</td>\n",
       "      <td>What ingredients are used to make ghuraybeh pa...</td>\n",
       "      <td>Other sweets made in Nablus include baklawa, \"...</td>\n",
       "      <td>0.310274</td>\n",
       "    </tr>\n",
       "  </tbody>\n",
       "</table>\n",
       "</div>"
      ],
      "text/plain": [
       "                  query-id               corpus-id  og_score  gen_score  \\\n",
       "0   q20231101.en_189891_13   20231101.en_189891_13  0.749034   0.375332   \n",
       "1    q20231101.en_49708_58    20231101.en_49708_58  0.779723   0.433520   \n",
       "2   q20231101.en_237746_29   20231101.en_237746_29  0.842045   0.514026   \n",
       "3  q20231101.en_15809706_5  20231101.en_15809706_5  0.836615   0.512268   \n",
       "4   q20231101.en_233369_67   20231101.en_233369_67  0.879577   0.569303   \n",
       "\n",
       "                                       og_query_text  \\\n",
       "0  What is the significance of Llyn Ffynnon-y-gwa...   \n",
       "1  When did Xi Jinping and Ma Ying-jeou first for...   \n",
       "2  What is excited delirium and how is it related...   \n",
       "3  What is the incidence rate of thyroid tumors i...   \n",
       "4           What types of sweets are made in Nablus?   \n",
       "\n",
       "                                      gen_query_text  \\\n",
       "0  How was the reservoir's water level and volume...   \n",
       "1  Who were the leaders that participated in the ...   \n",
       "2  What factors or pre-existing conditions make i...   \n",
       "3  What was the relationship between pre-existing...   \n",
       "4  What ingredients are used to make ghuraybeh pa...   \n",
       "\n",
       "                                         corpus_text  og - gen  \n",
       "0  Llyn Ffynnon-y-gwas –  high,  – lies in Cwm Tr...  0.373702  \n",
       "1  November 7 – CPC general secretary Xi Jinping ...  0.346203  \n",
       "2  Some of the deaths associated with TASER devic...  0.328019  \n",
       "3  At exposures eight times greater than those us...  0.324347  \n",
       "4  Other sweets made in Nablus include baklawa, \"...  0.310274  "
      ]
     },
     "execution_count": 114,
     "metadata": {},
     "output_type": "execute_result"
    }
   ],
   "source": [
    "openai_small_merged_df = pd.read_csv(\"generated_all/openai_small_merged_df.csv\")\n",
    "openai_small_merged_df.head()"
   ]
  },
  {
   "cell_type": "code",
   "execution_count": 17,
   "metadata": {},
   "outputs": [
    {
     "name": "stderr",
     "output_type": "stream",
     "text": [
      "100%|██████████| 1500/1500 [03:36<00:00,  6.94it/s]\n"
     ]
    }
   ],
   "source": [
    "tqdm.pandas()\n",
    "openai_small_merged_df[\"og_query_result\"] = openai_small_merged_df.progress_apply(lambda row: query(openai_small_col, openai_small_queries_embeddings_dict, row[\"query-id\"]), axis=1)"
   ]
  },
  {
   "cell_type": "code",
   "execution_count": 76,
   "metadata": {},
   "outputs": [],
   "source": [
    "openai_small_merged_df.sort_values(by=\"og - gen\", ascending=False, inplace=True)"
   ]
  },
  {
   "cell_type": "code",
   "execution_count": 78,
   "metadata": {},
   "outputs": [],
   "source": [
    "openai_small_merged_df_og_greater = openai_small_merged_df[:80]"
   ]
  },
  {
   "cell_type": "code",
   "execution_count": 107,
   "metadata": {},
   "outputs": [
    {
     "name": "stderr",
     "output_type": "stream",
     "text": [
      "100%|██████████| 80/80 [00:09<00:00,  8.40it/s]\n",
      "/var/folders/tt/89j8tbqd2q3bnwxk83_csyn00000gn/T/ipykernel_47666/2973627804.py:3: SettingWithCopyWarning: \n",
      "A value is trying to be set on a copy of a slice from a DataFrame.\n",
      "Try using .loc[row_indexer,col_indexer] = value instead\n",
      "\n",
      "See the caveats in the documentation: https://pandas.pydata.org/pandas-docs/stable/user_guide/indexing.html#returning-a-view-versus-a-copy\n",
      "  openai_small_merged_df_og_greater[\"og_query_result\"] = openai_small_merged_df_og_greater.progress_apply(lambda row: query(openai_small_col, openai_small_queries_embeddings_dict, row[\"query-id\"]), axis=1)\n"
     ]
    }
   ],
   "source": [
    "openai_small_merged_df_og_greater[\"og_query_result\"] = openai_small_merged_df_og_greater.progress_apply(lambda row: query(openai_small_col, openai_small_queries_embeddings_dict, row[\"query-id\"]), axis=1)"
   ]
  },
  {
   "cell_type": "code",
   "execution_count": 108,
   "metadata": {},
   "outputs": [
    {
     "name": "stderr",
     "output_type": "stream",
     "text": [
      "100%|██████████| 80/80 [00:10<00:00,  7.31it/s]\n",
      "/var/folders/tt/89j8tbqd2q3bnwxk83_csyn00000gn/T/ipykernel_47666/2343703306.py:2: SettingWithCopyWarning: \n",
      "A value is trying to be set on a copy of a slice from a DataFrame.\n",
      "Try using .loc[row_indexer,col_indexer] = value instead\n",
      "\n",
      "See the caveats in the documentation: https://pandas.pydata.org/pandas-docs/stable/user_guide/indexing.html#returning-a-view-versus-a-copy\n",
      "  openai_small_merged_df_og_greater[\"gen_query_result\"] = openai_small_merged_df_og_greater.progress_apply(lambda row: query(openai_small_col, openai_small_gen_queries_embeddings_dict, row[\"query-id\"]), axis=1)\n"
     ]
    }
   ],
   "source": [
    "tqdm.pandas()\n",
    "openai_small_merged_df_og_greater[\"gen_query_result\"] = openai_small_merged_df_og_greater.progress_apply(lambda row: query(openai_small_col, openai_small_gen_queries_embeddings_dict, row[\"query-id\"]), axis=1)"
   ]
  },
  {
   "cell_type": "code",
   "execution_count": 109,
   "metadata": {},
   "outputs": [],
   "source": [
    "openai_small_merged_df_og_greater.to_csv(\"generated_all/openai_small_og_greater.csv\", index=False)"
   ]
  },
  {
   "cell_type": "markdown",
   "metadata": {},
   "source": [
    "#### (gen < og) generated query is more relevant than original query"
   ]
  },
  {
   "cell_type": "code",
   "execution_count": 80,
   "metadata": {},
   "outputs": [],
   "source": [
    "openai_small_merged_df.sort_values(by=\"og - gen\", ascending=True, inplace=True)"
   ]
  },
  {
   "cell_type": "code",
   "execution_count": 81,
   "metadata": {},
   "outputs": [],
   "source": [
    "openai_small_merged_df_gen_greater = openai_small_merged_df[:80]"
   ]
  },
  {
   "cell_type": "code",
   "execution_count": 85,
   "metadata": {},
   "outputs": [],
   "source": [
    "openai_small_merged_df_gen_greater.to_csv(\"generated_all/openai_small_gen_greater.csv\", index=False)"
   ]
  },
  {
   "cell_type": "code",
   "execution_count": 106,
   "metadata": {},
   "outputs": [
    {
     "name": "stderr",
     "output_type": "stream",
     "text": [
      "100%|██████████| 80/80 [00:09<00:00,  8.25it/s]\n",
      "/var/folders/tt/89j8tbqd2q3bnwxk83_csyn00000gn/T/ipykernel_47666/2186857834.py:2: SettingWithCopyWarning: \n",
      "A value is trying to be set on a copy of a slice from a DataFrame.\n",
      "Try using .loc[row_indexer,col_indexer] = value instead\n",
      "\n",
      "See the caveats in the documentation: https://pandas.pydata.org/pandas-docs/stable/user_guide/indexing.html#returning-a-view-versus-a-copy\n",
      "  openai_small_merged_df_gen_greater[\"og_query_result\"] = openai_small_merged_df_gen_greater.progress_apply(lambda row: query(openai_small_col, openai_small_queries_embeddings_dict, row[\"query-id\"]), axis=1)\n",
      "100%|██████████| 80/80 [00:10<00:00,  7.74it/s]\n",
      "/var/folders/tt/89j8tbqd2q3bnwxk83_csyn00000gn/T/ipykernel_47666/2186857834.py:3: SettingWithCopyWarning: \n",
      "A value is trying to be set on a copy of a slice from a DataFrame.\n",
      "Try using .loc[row_indexer,col_indexer] = value instead\n",
      "\n",
      "See the caveats in the documentation: https://pandas.pydata.org/pandas-docs/stable/user_guide/indexing.html#returning-a-view-versus-a-copy\n",
      "  openai_small_merged_df_gen_greater[\"gen_query_result\"] = openai_small_merged_df_gen_greater.progress_apply(lambda row: query(openai_small_col, openai_small_gen_queries_embeddings_dict, row[\"query-id\"]), axis=1)\n"
     ]
    }
   ],
   "source": [
    "tqdm.pandas()\n",
    "openai_small_merged_df_gen_greater[\"og_query_result\"] = openai_small_merged_df_gen_greater.progress_apply(lambda row: query(openai_small_col, openai_small_queries_embeddings_dict, row[\"query-id\"]), axis=1)\n",
    "openai_small_merged_df_gen_greater[\"gen_query_result\"] = openai_small_merged_df_gen_greater.progress_apply(lambda row: query(openai_small_col, openai_small_gen_queries_embeddings_dict, row[\"query-id\"]), axis=1)\n",
    "openai_small_merged_df_gen_greater.to_csv(\"generated_all/openai_small_gen_greater.csv\", index=False)\n"
   ]
  },
  {
   "cell_type": "markdown",
   "metadata": {},
   "source": [
    "### text-embedding-3-large"
   ]
  },
  {
   "cell_type": "code",
   "execution_count": 65,
   "metadata": {},
   "outputs": [
    {
     "name": "stderr",
     "output_type": "stream",
     "text": [
      "Processing openai batches: 100%|██████████| 15/15 [00:40<00:00,  2.70s/it]\n",
      "Processing openai batches: 100%|██████████| 15/15 [00:15<00:00,  1.03s/it]\n"
     ]
    }
   ],
   "source": [
    "openai_large_col = chroma_client.get_collection(\"openai_large\")\n",
    "\n",
    "openai_large_og_queries_embeddings = openai_process_in_batches(og_queries_text, model=\"text-embedding-3-large\")\n",
    "openai_large_gen_queries_embeddings = openai_process_in_batches(gen_queries_text, model=\"text-embedding-3-large\")"
   ]
  },
  {
   "cell_type": "code",
   "execution_count": 66,
   "metadata": {},
   "outputs": [
    {
     "name": "stderr",
     "output_type": "stream",
     "text": [
      "Processing batches: 100%|██████████| 135/135 [11:38<00:00,  5.17s/it]\n"
     ]
    }
   ],
   "source": [
    "openai_large_og_queries_embeddings_dict = {\n",
    "    query_id: embedding \n",
    "    for query_id, embedding in zip(all_queries_ids, openai_large_og_queries_embeddings)\n",
    "}\n",
    "\n",
    "openai_large_gen_queries_embeddings_dict = {\n",
    "    query_id: embedding \n",
    "    for query_id, embedding in zip(all_queries_ids, openai_large_gen_queries_embeddings)\n",
    "}\n",
    "\n",
    "openai_large_corpus_embeddings_dict = {}\n",
    "\n",
    "for i in tqdm(range(0, len(all_corpus_ids), batch_size), desc=\"Processing batches\"):\n",
    "    batch_ids = all_corpus_ids[i:i + batch_size]\n",
    "    results = openai_large_col.get(ids=batch_ids, include=[\"embeddings\"])\n",
    "    batch_embeddings = results[\"embeddings\"]\n",
    "    retrieved_ids = results[\"ids\"]\n",
    "\n",
    "    for corpus_id, embedding in zip(retrieved_ids, batch_embeddings):\n",
    "        openai_large_corpus_embeddings_dict[corpus_id] = embedding\n"
   ]
  },
  {
   "cell_type": "code",
   "execution_count": 67,
   "metadata": {},
   "outputs": [
    {
     "name": "stderr",
     "output_type": "stream",
     "text": [
      "Processing batches: 100%|██████████| 15/15 [01:15<00:00,  5.03s/it]\n",
      "Processing batches: 100%|██████████| 15/15 [01:07<00:00,  4.53s/it]\n"
     ]
    }
   ],
   "source": [
    "openai_large_og_results = new_get_results(openai_large_col, og_queries_text, all_queries_ids, openai_large_og_queries_embeddings)\n",
    "openai_large_og_metrics = evaluate_new(k_values, all_qrels_df, openai_large_og_results)\n",
    "\n",
    "openai_large_gen_results = new_get_results(openai_large_col, gen_queries_text, all_queries_ids, openai_large_gen_queries_embeddings)\n",
    "openai_large_gen_metrics = evaluate_new(k_values, all_qrels_df, openai_large_gen_results)"
   ]
  },
  {
   "cell_type": "code",
   "execution_count": null,
   "metadata": {},
   "outputs": [],
   "source": [
    "openai_large_combined_metrics_df = create_combined_metrics_df(openai_large_og_metrics, openai_large_gen_metrics)\n",
    "openai_large_combined_metrics_df.to_csv(\"generated_all/openai_large_combined_metrics.csv\", index=False)"
   ]
  },
  {
   "cell_type": "code",
   "execution_count": 98,
   "metadata": {},
   "outputs": [
    {
     "data": {
      "text/html": [
       "<div>\n",
       "<style scoped>\n",
       "    .dataframe tbody tr th:only-of-type {\n",
       "        vertical-align: middle;\n",
       "    }\n",
       "\n",
       "    .dataframe tbody tr th {\n",
       "        vertical-align: top;\n",
       "    }\n",
       "\n",
       "    .dataframe thead th {\n",
       "        text-align: right;\n",
       "    }\n",
       "</style>\n",
       "<table border=\"1\" class=\"dataframe\">\n",
       "  <thead>\n",
       "    <tr style=\"text-align: right;\">\n",
       "      <th></th>\n",
       "      <th>type</th>\n",
       "      <th>NDCG@1</th>\n",
       "      <th>NDCG@3</th>\n",
       "      <th>NDCG@5</th>\n",
       "      <th>NDCG@10</th>\n",
       "      <th>MAP@3</th>\n",
       "      <th>MAP@5</th>\n",
       "      <th>MAP@10</th>\n",
       "      <th>Recall@3</th>\n",
       "      <th>Recall@5</th>\n",
       "      <th>Recall@10</th>\n",
       "      <th>P@3</th>\n",
       "      <th>P@5</th>\n",
       "      <th>P@10</th>\n",
       "    </tr>\n",
       "  </thead>\n",
       "  <tbody>\n",
       "    <tr>\n",
       "      <th>0</th>\n",
       "      <td>original</td>\n",
       "      <td>0.88933</td>\n",
       "      <td>0.93642</td>\n",
       "      <td>0.94440</td>\n",
       "      <td>0.94744</td>\n",
       "      <td>0.92522</td>\n",
       "      <td>0.92966</td>\n",
       "      <td>0.93093</td>\n",
       "      <td>0.96867</td>\n",
       "      <td>0.988</td>\n",
       "      <td>0.99733</td>\n",
       "      <td>0.32289</td>\n",
       "      <td>0.1976</td>\n",
       "      <td>0.09973</td>\n",
       "    </tr>\n",
       "    <tr>\n",
       "      <th>0</th>\n",
       "      <td>generated</td>\n",
       "      <td>0.89733</td>\n",
       "      <td>0.94554</td>\n",
       "      <td>0.94826</td>\n",
       "      <td>0.95000</td>\n",
       "      <td>0.93444</td>\n",
       "      <td>0.93594</td>\n",
       "      <td>0.93667</td>\n",
       "      <td>0.97733</td>\n",
       "      <td>0.984</td>\n",
       "      <td>0.98933</td>\n",
       "      <td>0.32578</td>\n",
       "      <td>0.1968</td>\n",
       "      <td>0.09893</td>\n",
       "    </tr>\n",
       "  </tbody>\n",
       "</table>\n",
       "</div>"
      ],
      "text/plain": [
       "        type   NDCG@1   NDCG@3   NDCG@5  NDCG@10    MAP@3    MAP@5   MAP@10  \\\n",
       "0   original  0.88933  0.93642  0.94440  0.94744  0.92522  0.92966  0.93093   \n",
       "0  generated  0.89733  0.94554  0.94826  0.95000  0.93444  0.93594  0.93667   \n",
       "\n",
       "   Recall@3  Recall@5  Recall@10      P@3     P@5     P@10  \n",
       "0   0.96867     0.988    0.99733  0.32289  0.1976  0.09973  \n",
       "0   0.97733     0.984    0.98933  0.32578  0.1968  0.09893  "
      ]
     },
     "execution_count": 98,
     "metadata": {},
     "output_type": "execute_result"
    }
   ],
   "source": [
    "openai_large_combined_metrics_df"
   ]
  },
  {
   "cell_type": "code",
   "execution_count": 72,
   "metadata": {},
   "outputs": [],
   "source": [
    "openai_large_og_scores_df = calculate_similarity_scores(openai_large_og_queries_embeddings_dict, openai_large_corpus_embeddings_dict, \"generated_all/openai_large_original_distribution.parquet\")\n",
    "openai_large_gen_scores_df = calculate_similarity_scores(openai_large_gen_queries_embeddings_dict, openai_large_corpus_embeddings_dict, \"generated_all/openai_large_generated_distribution.parquet\")\n"
   ]
  },
  {
   "cell_type": "code",
   "execution_count": 86,
   "metadata": {},
   "outputs": [
    {
     "data": {
      "image/png": "[encoded data removed]",
      "text/plain": [
       "<Figure size 800x500 with 1 Axes>"
      ]
     },
     "metadata": {},
     "output_type": "display_data"
    }
   ],
   "source": [
    "plt.figure(figsize=(8, 5))\n",
    "plt.hist(openai_large_og_scores_df[\"score\"], bins=bins, alpha=0.5,  edgecolor='black', label=\"Original\", range=(min_score, max_score), density=True)\n",
    "plt.hist(openai_large_gen_scores_df[\"score\"], bins=bins, alpha=0.5, edgecolor='black', label=\"Generated\", range=(min_score, max_score), density=True)\n",
    "\n",
    "plt.xlabel(\"Cosine Similarity\")\n",
    "plt.ylabel(\"Normalized Frequency\")\n",
    "\n",
    "plt.title(\"text-embeddings-3-large (1500 Queries, 13500 Documents)\")\n",
    "plt.legend()\n",
    "plt.grid(True)\n",
    "plt.show()"
   ]
  },
  {
   "cell_type": "markdown",
   "metadata": {},
   "source": [
    "### jina no input type"
   ]
  },
  {
   "cell_type": "code",
   "execution_count": 76,
   "metadata": {},
   "outputs": [],
   "source": [
    "jina_no_input_col = chroma_client.get_collection(\"jina_text_matching\")"
   ]
  },
  {
   "cell_type": "code",
   "execution_count": 78,
   "metadata": {},
   "outputs": [
    {
     "name": "stderr",
     "output_type": "stream",
     "text": [
      "Processing batches: 100%|██████████| 30/30 [00:40<00:00,  1.36s/it]\n",
      "Processing batches: 100%|██████████| 30/30 [00:37<00:00,  1.26s/it]\n",
      "Processing batches: 100%|██████████| 135/135 [03:13<00:00,  1.43s/it]\n"
     ]
    }
   ],
   "source": [
    "jina_no_input_og_queries_embeddings = jina_process_in_batches_no_input(og_queries_text)\n",
    "jina_no_input_gen_queries_embeddings = jina_process_in_batches_no_input(gen_queries_text)\n",
    "\n",
    "jina_no_input_og_queries_embeddings_dict = {\n",
    "    query_id: embedding \n",
    "    for query_id, embedding in zip(all_queries_ids, jina_no_input_og_queries_embeddings)\n",
    "}\n",
    "\n",
    "\n",
    "jina_no_input_gen_queries_embeddings_dict = {\n",
    "    query_id: embedding \n",
    "    for query_id, embedding in zip(all_queries_ids, jina_no_input_gen_queries_embeddings)\n",
    "}\n",
    "\n",
    "jina_no_input_corpus_embeddings_dict = {}\n",
    "\n",
    "for i in tqdm(range(0, len(all_corpus_ids), batch_size), desc=\"Processing batches\"):\n",
    "    batch_ids = all_corpus_ids[i:i + batch_size]\n",
    "    results = jina_no_input_col.get(ids=batch_ids, include=[\"embeddings\"])\n",
    "    batch_embeddings = results[\"embeddings\"]\n",
    "    retrieved_ids = results[\"ids\"]\n",
    "\n",
    "    for corpus_id, embedding in zip(retrieved_ids, batch_embeddings):\n",
    "        jina_no_input_corpus_embeddings_dict[corpus_id] = embedding\n"
   ]
  },
  {
   "cell_type": "code",
   "execution_count": 79,
   "metadata": {},
   "outputs": [
    {
     "name": "stderr",
     "output_type": "stream",
     "text": [
      "Processing batches: 100%|██████████| 15/15 [00:47<00:00,  3.14s/it]\n",
      "Processing batches: 100%|██████████| 15/15 [00:21<00:00,  1.47s/it]\n"
     ]
    },
    {
     "data": {
      "text/html": [
       "<div>\n",
       "<style scoped>\n",
       "    .dataframe tbody tr th:only-of-type {\n",
       "        vertical-align: middle;\n",
       "    }\n",
       "\n",
       "    .dataframe tbody tr th {\n",
       "        vertical-align: top;\n",
       "    }\n",
       "\n",
       "    .dataframe thead th {\n",
       "        text-align: right;\n",
       "    }\n",
       "</style>\n",
       "<table border=\"1\" class=\"dataframe\">\n",
       "  <thead>\n",
       "    <tr style=\"text-align: right;\">\n",
       "      <th></th>\n",
       "      <th>type</th>\n",
       "      <th>NDCG@1</th>\n",
       "      <th>NDCG@3</th>\n",
       "      <th>NDCG@5</th>\n",
       "      <th>NDCG@10</th>\n",
       "      <th>MAP@3</th>\n",
       "      <th>MAP@5</th>\n",
       "      <th>MAP@10</th>\n",
       "      <th>Recall@3</th>\n",
       "      <th>Recall@5</th>\n",
       "      <th>Recall@10</th>\n",
       "      <th>P@3</th>\n",
       "      <th>P@5</th>\n",
       "      <th>P@10</th>\n",
       "    </tr>\n",
       "  </thead>\n",
       "  <tbody>\n",
       "    <tr>\n",
       "      <th>0</th>\n",
       "      <td>original</td>\n",
       "      <td>0.84533</td>\n",
       "      <td>0.90473</td>\n",
       "      <td>0.91044</td>\n",
       "      <td>0.91467</td>\n",
       "      <td>0.89022</td>\n",
       "      <td>0.89336</td>\n",
       "      <td>0.89518</td>\n",
       "      <td>0.94667</td>\n",
       "      <td>0.96067</td>\n",
       "      <td>0.97333</td>\n",
       "      <td>0.31556</td>\n",
       "      <td>0.19213</td>\n",
       "      <td>0.09733</td>\n",
       "    </tr>\n",
       "    <tr>\n",
       "      <th>0</th>\n",
       "      <td>generated</td>\n",
       "      <td>0.87200</td>\n",
       "      <td>0.92038</td>\n",
       "      <td>0.92477</td>\n",
       "      <td>0.92706</td>\n",
       "      <td>0.90933</td>\n",
       "      <td>0.91177</td>\n",
       "      <td>0.91279</td>\n",
       "      <td>0.95200</td>\n",
       "      <td>0.96267</td>\n",
       "      <td>0.96933</td>\n",
       "      <td>0.31733</td>\n",
       "      <td>0.19253</td>\n",
       "      <td>0.09693</td>\n",
       "    </tr>\n",
       "  </tbody>\n",
       "</table>\n",
       "</div>"
      ],
      "text/plain": [
       "        type   NDCG@1   NDCG@3   NDCG@5  NDCG@10    MAP@3    MAP@5   MAP@10  \\\n",
       "0   original  0.84533  0.90473  0.91044  0.91467  0.89022  0.89336  0.89518   \n",
       "0  generated  0.87200  0.92038  0.92477  0.92706  0.90933  0.91177  0.91279   \n",
       "\n",
       "   Recall@3  Recall@5  Recall@10      P@3      P@5     P@10  \n",
       "0   0.94667   0.96067    0.97333  0.31556  0.19213  0.09733  \n",
       "0   0.95200   0.96267    0.96933  0.31733  0.19253  0.09693  "
      ]
     },
     "execution_count": 79,
     "metadata": {},
     "output_type": "execute_result"
    }
   ],
   "source": [
    "jina_no_input_og_results = new_get_results(jina_no_input_col, og_queries_text, all_queries_ids, jina_no_input_og_queries_embeddings)\n",
    "jina_no_input_og_metrics = evaluate_new(k_values, all_qrels_df, jina_no_input_og_results)\n",
    "\n",
    "jina_no_input_gen_results = new_get_results(jina_no_input_col, gen_queries_text, all_queries_ids, jina_no_input_gen_queries_embeddings)\n",
    "jina_no_input_gen_metrics = evaluate_new(k_values, all_qrels_df, jina_no_input_gen_results)\n",
    "\n",
    "jina_no_input_combined_metrics_df = create_combined_metrics_df(jina_no_input_og_metrics, jina_no_input_gen_metrics)\n",
    "jina_no_input_combined_metrics_df.to_csv(\"generated_all/jina_no_input_combined_metrics.csv\", index=False)\n",
    "\n",
    "jina_no_input_combined_metrics_df\n"
   ]
  },
  {
   "cell_type": "code",
   "execution_count": 87,
   "metadata": {},
   "outputs": [
    {
     "data": {
      "image/png": "[encoded data removed]",
      "text/plain": [
       "<Figure size 800x500 with 1 Axes>"
      ]
     },
     "metadata": {},
     "output_type": "display_data"
    }
   ],
   "source": [
    "jina_no_input_og_scores_df = calculate_similarity_scores(jina_no_input_og_queries_embeddings_dict, jina_no_input_corpus_embeddings_dict, \"generated_all/jina_no_input_og_scores.parquet\")\n",
    "jina_no_input_gen_scores_df = calculate_similarity_scores(jina_no_input_gen_queries_embeddings_dict, jina_no_input_corpus_embeddings_dict, \"generated_all/jina_no_input_gen_scores.parquet\")\n",
    "\n",
    "plt.figure(figsize=(8, 5))\n",
    "\n",
    "plt.hist(jina_no_input_og_scores_df[\"score\"], bins=bins, alpha=0.5,  edgecolor='black', label=\"Original\", range=(min_score, max_score), density=True)\n",
    "plt.hist(jina_no_input_gen_scores_df[\"score\"], bins=bins, alpha=0.5, edgecolor='black', label=\"Generated\", range=(min_score, max_score), density=True)\n",
    "\n",
    "plt.xlabel(\"Cosine Similarity\")\n",
    "plt.ylabel(\"Normalized Frequency\")\n",
    "\n",
    "plt.title(\"jina-embeddings-v3 (no input type) (1500 Queries, 13500 Documents)\")\n",
    "plt.legend()\n",
    "plt.grid(True)\n",
    "plt.show()"
   ]
  },
  {
   "cell_type": "markdown",
   "metadata": {},
   "source": [
    "### jina input type"
   ]
  },
  {
   "cell_type": "code",
   "execution_count": 81,
   "metadata": {},
   "outputs": [],
   "source": [
    "jina_input_col = chroma_client.get_collection(\"jina\")"
   ]
  },
  {
   "cell_type": "code",
   "execution_count": 82,
   "metadata": {},
   "outputs": [
    {
     "name": "stderr",
     "output_type": "stream",
     "text": [
      "Processing batches: 100%|██████████| 15/15 [00:21<00:00,  1.46s/it]\n",
      "Processing batches: 100%|██████████| 15/15 [00:23<00:00,  1.54s/it]\n",
      "Processing batches: 100%|██████████| 135/135 [03:37<00:00,  1.61s/it]\n"
     ]
    }
   ],
   "source": [
    "jina_input_og_queries_embeddings = jina_process_in_batches_input_type(True, og_queries_text)\n",
    "jina_input_gen_queries_embeddings = jina_process_in_batches_input_type(True, gen_queries_text)\n",
    "\n",
    "jina_input_og_queries_embeddings_dict = {\n",
    "    query_id: embedding \n",
    "    for query_id, embedding in zip(all_queries_ids, jina_input_og_queries_embeddings)\n",
    "}\n",
    "\n",
    "jina_input_gen_queries_embeddings_dict = {\n",
    "    query_id: embedding \n",
    "    for query_id, embedding in zip(all_queries_ids, jina_input_gen_queries_embeddings)\n",
    "}\n",
    "\n",
    "jina_input_corpus_embeddings_dict = {}\n",
    "\n",
    "for i in tqdm(range(0, len(all_corpus_ids), batch_size), desc=\"Processing batches\"):\n",
    "    batch_ids = all_corpus_ids[i:i + batch_size]\n",
    "    results = jina_input_col.get(ids=batch_ids, include=[\"embeddings\"])\n",
    "    batch_embeddings = results[\"embeddings\"]\n",
    "    retrieved_ids = results[\"ids\"]\n",
    "\n",
    "    for corpus_id, embedding in zip(retrieved_ids, batch_embeddings):\n",
    "        jina_input_corpus_embeddings_dict[corpus_id] = embedding"
   ]
  },
  {
   "cell_type": "code",
   "execution_count": 84,
   "metadata": {},
   "outputs": [
    {
     "name": "stderr",
     "output_type": "stream",
     "text": [
      "Processing batches: 100%|██████████| 15/15 [00:35<00:00,  2.40s/it]\n",
      "Processing batches: 100%|██████████| 15/15 [00:48<00:00,  3.21s/it]\n"
     ]
    },
    {
     "data": {
      "text/html": [
       "<div>\n",
       "<style scoped>\n",
       "    .dataframe tbody tr th:only-of-type {\n",
       "        vertical-align: middle;\n",
       "    }\n",
       "\n",
       "    .dataframe tbody tr th {\n",
       "        vertical-align: top;\n",
       "    }\n",
       "\n",
       "    .dataframe thead th {\n",
       "        text-align: right;\n",
       "    }\n",
       "</style>\n",
       "<table border=\"1\" class=\"dataframe\">\n",
       "  <thead>\n",
       "    <tr style=\"text-align: right;\">\n",
       "      <th></th>\n",
       "      <th>type</th>\n",
       "      <th>NDCG@1</th>\n",
       "      <th>NDCG@3</th>\n",
       "      <th>NDCG@5</th>\n",
       "      <th>NDCG@10</th>\n",
       "      <th>MAP@3</th>\n",
       "      <th>MAP@5</th>\n",
       "      <th>MAP@10</th>\n",
       "      <th>Recall@3</th>\n",
       "      <th>Recall@5</th>\n",
       "      <th>Recall@10</th>\n",
       "      <th>P@3</th>\n",
       "      <th>P@5</th>\n",
       "      <th>P@10</th>\n",
       "    </tr>\n",
       "  </thead>\n",
       "  <tbody>\n",
       "    <tr>\n",
       "      <th>0</th>\n",
       "      <td>original</td>\n",
       "      <td>0.828</td>\n",
       "      <td>0.88941</td>\n",
       "      <td>0.89845</td>\n",
       "      <td>0.90630</td>\n",
       "      <td>0.87444</td>\n",
       "      <td>0.87944</td>\n",
       "      <td>0.88274</td>\n",
       "      <td>0.93267</td>\n",
       "      <td>0.95467</td>\n",
       "      <td>0.97867</td>\n",
       "      <td>0.31089</td>\n",
       "      <td>0.19093</td>\n",
       "      <td>0.09787</td>\n",
       "    </tr>\n",
       "    <tr>\n",
       "      <th>0</th>\n",
       "      <td>generated</td>\n",
       "      <td>0.852</td>\n",
       "      <td>0.90154</td>\n",
       "      <td>0.91181</td>\n",
       "      <td>0.91423</td>\n",
       "      <td>0.89000</td>\n",
       "      <td>0.89577</td>\n",
       "      <td>0.89679</td>\n",
       "      <td>0.93467</td>\n",
       "      <td>0.95933</td>\n",
       "      <td>0.96667</td>\n",
       "      <td>0.31156</td>\n",
       "      <td>0.19187</td>\n",
       "      <td>0.09667</td>\n",
       "    </tr>\n",
       "  </tbody>\n",
       "</table>\n",
       "</div>"
      ],
      "text/plain": [
       "        type  NDCG@1   NDCG@3   NDCG@5  NDCG@10    MAP@3    MAP@5   MAP@10  \\\n",
       "0   original   0.828  0.88941  0.89845  0.90630  0.87444  0.87944  0.88274   \n",
       "0  generated   0.852  0.90154  0.91181  0.91423  0.89000  0.89577  0.89679   \n",
       "\n",
       "   Recall@3  Recall@5  Recall@10      P@3      P@5     P@10  \n",
       "0   0.93267   0.95467    0.97867  0.31089  0.19093  0.09787  \n",
       "0   0.93467   0.95933    0.96667  0.31156  0.19187  0.09667  "
      ]
     },
     "execution_count": 84,
     "metadata": {},
     "output_type": "execute_result"
    }
   ],
   "source": [
    "jina_input_og_results = new_get_results(jina_input_col, og_queries_text, all_queries_ids, jina_input_og_queries_embeddings)\n",
    "jina_input_og_metrics = evaluate_new(k_values, all_qrels_df, jina_input_og_results)\n",
    "\n",
    "jina_input_gen_results = new_get_results(jina_input_col, gen_queries_text, all_queries_ids, jina_input_gen_queries_embeddings)\n",
    "jina_input_gen_metrics = evaluate_new(k_values, all_qrels_df, jina_input_gen_results)\n",
    "\n",
    "jina_input_combined_metrics_df = create_combined_metrics_df(jina_input_og_metrics, jina_input_gen_metrics)\n",
    "jina_input_combined_metrics_df.to_csv(\"generated_all/jina_input_combined_metrics.csv\", index=False)\n",
    "\n",
    "jina_input_combined_metrics_df"
   ]
  },
  {
   "cell_type": "code",
   "execution_count": 88,
   "metadata": {},
   "outputs": [
    {
     "data": {
      "image/png": "[encoded data removed]",
      "text/plain": [
       "<Figure size 800x500 with 1 Axes>"
      ]
     },
     "metadata": {},
     "output_type": "display_data"
    }
   ],
   "source": [
    "jina_input_og_scores_df = calculate_similarity_scores(jina_input_og_queries_embeddings_dict, jina_input_corpus_embeddings_dict, \"generated_all/jina_input_og_scores.parquet\")\n",
    "jina_input_gen_scores_df = calculate_similarity_scores(jina_input_gen_queries_embeddings_dict, jina_input_corpus_embeddings_dict, \"generated_all/jina_input_gen_scores.parquet\")\n",
    "\n",
    "plt.figure(figsize=(8, 5))\n",
    "\n",
    "\n",
    "plt.hist(jina_input_og_scores_df[\"score\"], bins=bins, alpha=0.5,  edgecolor='black', label=\"Original\", range=(min_score, max_score), density=True)\n",
    "plt.hist(jina_input_gen_scores_df[\"score\"], bins=bins, alpha=0.5, edgecolor='black', label=\"Generated\", range=(min_score, max_score), density=True)\n",
    "\n",
    "plt.xlabel(\"Cosine Similarity\")\n",
    "plt.ylabel(\"Normalized Frequency\")\n",
    "\n",
    "plt.title(\"jina-embeddings-v3 (input type) (1500 Queries, 13500 Documents)\")\n",
    "plt.legend()\n",
    "plt.grid(True)\n",
    "plt.show()"
   ]
  },
  {
   "cell_type": "markdown",
   "metadata": {},
   "source": [
    "### voyage no input type"
   ]
  },
  {
   "cell_type": "code",
   "execution_count": 23,
   "metadata": {},
   "outputs": [],
   "source": [
    "voyage_no_input_col = chroma_client.get_collection(\"voyage_no_input_type\")\n",
    "voyage_client = voyageai.Client(api_key=\"\")"
   ]
  },
  {
   "cell_type": "code",
   "execution_count": null,
   "metadata": {},
   "outputs": [],
   "source": [
    "voyage_no_input_og_queries_embeddings = process_in_batches_voyage_no_input(voyage_client, og_queries_text)\n",
    "voyage_no_input_gen_queries_embeddings = process_in_batches_voyage_no_input(voyage_client, gen_queries_text)"
   ]
  },
  {
   "cell_type": "code",
   "execution_count": 32,
   "metadata": {},
   "outputs": [
    {
     "data": {
      "text/plain": [
       "13500"
      ]
     },
     "execution_count": 32,
     "metadata": {},
     "output_type": "execute_result"
    }
   ],
   "source": [
    "len(all_corpus_ids)"
   ]
  },
  {
   "cell_type": "code",
   "execution_count": 33,
   "metadata": {},
   "outputs": [
    {
     "name": "stderr",
     "output_type": "stream",
     "text": [
      "Processing batches: 100%|██████████| 135/135 [03:29<00:00,  1.55s/it]\n"
     ]
    }
   ],
   "source": [
    "voyage_no_input_og_queries_embeddings_dict = {\n",
    "    query_id: embedding \n",
    "    for query_id, embedding in zip(all_queries_ids, voyage_no_input_og_queries_embeddings)\n",
    "}\n",
    "\n",
    "voyage_no_input_gen_queries_embeddings_dict = {\n",
    "    query_id: embedding \n",
    "    for query_id, embedding in zip(all_queries_ids, voyage_no_input_gen_queries_embeddings)\n",
    "}\n",
    "\n",
    "voyage_no_input_corpus_embeddings_dict = {}\n",
    "\n",
    "for i in tqdm(range(0, len(all_corpus_ids), batch_size), desc=\"Processing batches\"):\n",
    "    batch_ids = all_corpus_ids[i:i + batch_size]\n",
    "    results = voyage_no_input_col.get(ids=batch_ids, include=[\"embeddings\"])\n",
    "    batch_embeddings = results[\"embeddings\"]\n",
    "    retrieved_ids = results[\"ids\"]\n",
    "    \n",
    "    for corpus_id, embedding in zip(retrieved_ids, batch_embeddings):\n",
    "        voyage_no_input_corpus_embeddings_dict[corpus_id] = embedding"
   ]
  },
  {
   "cell_type": "code",
   "execution_count": 51,
   "metadata": {},
   "outputs": [
    {
     "name": "stderr",
     "output_type": "stream",
     "text": [
      "Processing batches: 100%|██████████| 15/15 [00:27<00:00,  1.85s/it]\n",
      "Processing batches: 100%|██████████| 15/15 [00:22<00:00,  1.53s/it]\n"
     ]
    }
   ],
   "source": [
    "voyage_no_input_og_results = new_get_results(voyage_no_input_col, og_queries_text, all_queries_ids, voyage_no_input_og_queries_embeddings)\n",
    "voyage_no_input_og_metrics = evaluate_new(k_values, all_qrels_df, voyage_no_input_og_results)\n",
    "\n",
    "voyage_no_input_gen_results = new_get_results(voyage_no_input_col, gen_queries_text, all_queries_ids, voyage_no_input_gen_queries_embeddings)\n",
    "voyage_no_input_gen_metrics = evaluate_new(k_values, all_qrels_df, voyage_no_input_gen_results)\n"
   ]
  },
  {
   "cell_type": "code",
   "execution_count": 52,
   "metadata": {},
   "outputs": [
    {
     "data": {
      "text/html": [
       "<div>\n",
       "<style scoped>\n",
       "    .dataframe tbody tr th:only-of-type {\n",
       "        vertical-align: middle;\n",
       "    }\n",
       "\n",
       "    .dataframe tbody tr th {\n",
       "        vertical-align: top;\n",
       "    }\n",
       "\n",
       "    .dataframe thead th {\n",
       "        text-align: right;\n",
       "    }\n",
       "</style>\n",
       "<table border=\"1\" class=\"dataframe\">\n",
       "  <thead>\n",
       "    <tr style=\"text-align: right;\">\n",
       "      <th></th>\n",
       "      <th>type</th>\n",
       "      <th>NDCG@1</th>\n",
       "      <th>NDCG@3</th>\n",
       "      <th>NDCG@5</th>\n",
       "      <th>NDCG@10</th>\n",
       "      <th>MAP@3</th>\n",
       "      <th>MAP@5</th>\n",
       "      <th>MAP@10</th>\n",
       "      <th>Recall@3</th>\n",
       "      <th>Recall@5</th>\n",
       "      <th>Recall@10</th>\n",
       "      <th>P@3</th>\n",
       "      <th>P@5</th>\n",
       "      <th>P@10</th>\n",
       "    </tr>\n",
       "  </thead>\n",
       "  <tbody>\n",
       "    <tr>\n",
       "      <th>0</th>\n",
       "      <td>original</td>\n",
       "      <td>0.89400</td>\n",
       "      <td>0.93639</td>\n",
       "      <td>0.94178</td>\n",
       "      <td>0.94601</td>\n",
       "      <td>0.92633</td>\n",
       "      <td>0.92927</td>\n",
       "      <td>0.93109</td>\n",
       "      <td>0.96533</td>\n",
       "      <td>0.97867</td>\n",
       "      <td>0.99133</td>\n",
       "      <td>0.32178</td>\n",
       "      <td>0.19573</td>\n",
       "      <td>0.09913</td>\n",
       "    </tr>\n",
       "    <tr>\n",
       "      <th>0</th>\n",
       "      <td>generated</td>\n",
       "      <td>0.92733</td>\n",
       "      <td>0.95908</td>\n",
       "      <td>0.96132</td>\n",
       "      <td>0.96193</td>\n",
       "      <td>0.95178</td>\n",
       "      <td>0.95304</td>\n",
       "      <td>0.95328</td>\n",
       "      <td>0.98000</td>\n",
       "      <td>0.98533</td>\n",
       "      <td>0.98733</td>\n",
       "      <td>0.32667</td>\n",
       "      <td>0.19707</td>\n",
       "      <td>0.09873</td>\n",
       "    </tr>\n",
       "  </tbody>\n",
       "</table>\n",
       "</div>"
      ],
      "text/plain": [
       "        type   NDCG@1   NDCG@3   NDCG@5  NDCG@10    MAP@3    MAP@5   MAP@10  \\\n",
       "0   original  0.89400  0.93639  0.94178  0.94601  0.92633  0.92927  0.93109   \n",
       "0  generated  0.92733  0.95908  0.96132  0.96193  0.95178  0.95304  0.95328   \n",
       "\n",
       "   Recall@3  Recall@5  Recall@10      P@3      P@5     P@10  \n",
       "0   0.96533   0.97867    0.99133  0.32178  0.19573  0.09913  \n",
       "0   0.98000   0.98533    0.98733  0.32667  0.19707  0.09873  "
      ]
     },
     "execution_count": 52,
     "metadata": {},
     "output_type": "execute_result"
    }
   ],
   "source": [
    "voyage_no_input_combined_metrics_df = create_combined_metrics_df(\n",
    "    voyage_no_input_og_metrics,\n",
    "    voyage_no_input_gen_metrics\n",
    ")\n",
    "voyage_no_input_combined_metrics_df\n"
   ]
  },
  {
   "cell_type": "code",
   "execution_count": 53,
   "metadata": {},
   "outputs": [],
   "source": [
    "voyage_no_input_combined_metrics_df.to_csv(\"generated_all/voyage_no_input/voyage_no_input_combined_metrics.csv\", index=False)"
   ]
  },
  {
   "cell_type": "code",
   "execution_count": 54,
   "metadata": {},
   "outputs": [],
   "source": [
    "voyage_no_input_og_scores_df = calculate_similarity_scores(\n",
    "    voyage_no_input_og_queries_embeddings_dict,\n",
    "    voyage_no_input_corpus_embeddings_dict,\n",
    "    \"generated_all/voyage_no_input/voyage_no_input_og_scores.parquet\"\n",
    ")\n",
    "\n",
    "voyage_no_input_gen_scores_df = calculate_similarity_scores(\n",
    "    voyage_no_input_gen_queries_embeddings_dict,\n",
    "    voyage_no_input_corpus_embeddings_dict,\n",
    "    \"generated_all/voyage_no_input/voyage_no_input_gen_scores.parquet\"\n",
    ")\n"
   ]
  },
  {
   "cell_type": "code",
   "execution_count": null,
   "metadata": {},
   "outputs": [],
   "source": [
    "voyage_no_input_og_scores_df"
   ]
  },
  {
   "cell_type": "code",
   "execution_count": 63,
   "metadata": {},
   "outputs": [
    {
     "data": {
      "image/png": "[encoded data removed]",
      "text/plain": [
       "<Figure size 800x500 with 1 Axes>"
      ]
     },
     "metadata": {},
     "output_type": "display_data"
    }
   ],
   "source": [
    "plt.figure(figsize=(8, 5))\n",
    "\n",
    "plt.hist(voyage_no_input_og_scores_df[\"score\"], bins=bins, alpha=0.5,  edgecolor='black', label=\"Original\", range=(min_score, max_score), density=True)\n",
    "plt.hist(voyage_no_input_gen_scores_df[\"score\"], bins=bins, alpha=0.5, edgecolor='black', label=\"Generated\", range=(min_score, max_score), density=True)\n",
    "\n",
    "plt.xlabel(\"Cosine Similarity\")\n",
    "plt.ylabel(\"Normalized Frequency\")\n",
    "\n",
    "plt.title(\"voyage-3-large (no input type) (1500 Queries, 13500 Documents)\")\n",
    "plt.legend()\n",
    "plt.grid(True)\n",
    "plt.show()"
   ]
  },
  {
   "cell_type": "markdown",
   "metadata": {},
   "source": [
    "### voyage input type"
   ]
  },
  {
   "cell_type": "code",
   "execution_count": 89,
   "metadata": {},
   "outputs": [],
   "source": [
    "voyage_input_col = chroma_client.get_collection(\"voyage_input_type\")"
   ]
  },
  {
   "cell_type": "code",
   "execution_count": 92,
   "metadata": {},
   "outputs": [
    {
     "name": "stderr",
     "output_type": "stream",
     "text": [
      "Processing Voyage batches: 100%|██████████| 15/15 [00:21<00:00,  1.44s/it]\n",
      "Processing Voyage batches: 100%|██████████| 15/15 [00:20<00:00,  1.36s/it]\n",
      "Processing batches: 100%|██████████| 135/135 [03:39<00:00,  1.62s/it]\n"
     ]
    }
   ],
   "source": [
    "voyage_input_og_queries_embeddings = process_in_batches_voyage_input_type(voyage_client, True, og_queries_text)\n",
    "voyage_input_gen_queries_embeddings = process_in_batches_voyage_input_type(voyage_client, True, gen_queries_text)\n",
    "\n",
    "voyage_input_og_queries_embeddings_dict = {\n",
    "    query_id: embedding\n",
    "    for query_id, embedding in zip(all_queries_ids, voyage_input_og_queries_embeddings)\n",
    "}\n",
    "\n",
    "voyage_input_gen_queries_embeddings_dict = {\n",
    "    query_id: embedding\n",
    "    for query_id, embedding in zip(all_queries_ids, voyage_input_gen_queries_embeddings)\n",
    "}\n",
    "\n",
    "voyage_input_corpus_embeddings_dict = {}\n",
    "\n",
    "for i in tqdm(range(0, len(all_corpus_ids), batch_size), desc=\"Processing batches\"):\n",
    "    batch_ids = all_corpus_ids[i:i + batch_size]\n",
    "    results = voyage_input_col.get(ids=batch_ids, include=[\"embeddings\"])\n",
    "    batch_embeddings = results[\"embeddings\"]\n",
    "    retrieved_ids = results[\"ids\"]\n",
    "\n",
    "    for corpus_id, embedding in zip(retrieved_ids, batch_embeddings):\n",
    "        voyage_input_corpus_embeddings_dict[corpus_id] = embedding\n"
   ]
  },
  {
   "cell_type": "code",
   "execution_count": null,
   "metadata": {},
   "outputs": [],
   "source": [
    "voyage_input_og_results = new_get_results(voyage_input_col, og_queries_text, all_queries_ids, voyage_input_og_queries_embeddings)\n",
    "voyage_input_og_metrics = evaluate_new(k_values, all_qrels_df, voyage_input_og_results)\n",
    "\n",
    "voyage_input_gen_results = new_get_results(voyage_input_col, gen_queries_text, all_queries_ids, voyage_input_gen_queries_embeddings)\n",
    "voyage_input_gen_metrics = evaluate_new(k_values, all_qrels_df, voyage_input_gen_results)\n",
    "\n",
    "voyage_input_combined_metrics_df = create_combined_metrics_df(\n",
    "    voyage_input_og_metrics,\n",
    "    voyage_input_gen_metrics\n",
    ")"
   ]
  },
  {
   "cell_type": "code",
   "execution_count": 94,
   "metadata": {},
   "outputs": [
    {
     "data": {
      "text/html": [
       "<div>\n",
       "<style scoped>\n",
       "    .dataframe tbody tr th:only-of-type {\n",
       "        vertical-align: middle;\n",
       "    }\n",
       "\n",
       "    .dataframe tbody tr th {\n",
       "        vertical-align: top;\n",
       "    }\n",
       "\n",
       "    .dataframe thead th {\n",
       "        text-align: right;\n",
       "    }\n",
       "</style>\n",
       "<table border=\"1\" class=\"dataframe\">\n",
       "  <thead>\n",
       "    <tr style=\"text-align: right;\">\n",
       "      <th></th>\n",
       "      <th>type</th>\n",
       "      <th>NDCG@1</th>\n",
       "      <th>NDCG@3</th>\n",
       "      <th>NDCG@5</th>\n",
       "      <th>NDCG@10</th>\n",
       "      <th>MAP@3</th>\n",
       "      <th>MAP@5</th>\n",
       "      <th>MAP@10</th>\n",
       "      <th>Recall@3</th>\n",
       "      <th>Recall@5</th>\n",
       "      <th>Recall@10</th>\n",
       "      <th>P@3</th>\n",
       "      <th>P@5</th>\n",
       "      <th>P@10</th>\n",
       "    </tr>\n",
       "  </thead>\n",
       "  <tbody>\n",
       "    <tr>\n",
       "      <th>0</th>\n",
       "      <td>original</td>\n",
       "      <td>0.89667</td>\n",
       "      <td>0.93386</td>\n",
       "      <td>0.93943</td>\n",
       "      <td>0.94331</td>\n",
       "      <td>0.92522</td>\n",
       "      <td>0.92836</td>\n",
       "      <td>0.93008</td>\n",
       "      <td>0.95867</td>\n",
       "      <td>0.97200</td>\n",
       "      <td>0.98333</td>\n",
       "      <td>0.31956</td>\n",
       "      <td>0.19440</td>\n",
       "      <td>0.09833</td>\n",
       "    </tr>\n",
       "    <tr>\n",
       "      <th>0</th>\n",
       "      <td>generated</td>\n",
       "      <td>0.91000</td>\n",
       "      <td>0.94083</td>\n",
       "      <td>0.94336</td>\n",
       "      <td>0.94383</td>\n",
       "      <td>0.93389</td>\n",
       "      <td>0.93532</td>\n",
       "      <td>0.93554</td>\n",
       "      <td>0.96067</td>\n",
       "      <td>0.96667</td>\n",
       "      <td>0.96800</td>\n",
       "      <td>0.32022</td>\n",
       "      <td>0.19333</td>\n",
       "      <td>0.09680</td>\n",
       "    </tr>\n",
       "  </tbody>\n",
       "</table>\n",
       "</div>"
      ],
      "text/plain": [
       "        type   NDCG@1   NDCG@3   NDCG@5  NDCG@10    MAP@3    MAP@5   MAP@10  \\\n",
       "0   original  0.89667  0.93386  0.93943  0.94331  0.92522  0.92836  0.93008   \n",
       "0  generated  0.91000  0.94083  0.94336  0.94383  0.93389  0.93532  0.93554   \n",
       "\n",
       "   Recall@3  Recall@5  Recall@10      P@3      P@5     P@10  \n",
       "0   0.95867   0.97200    0.98333  0.31956  0.19440  0.09833  \n",
       "0   0.96067   0.96667    0.96800  0.32022  0.19333  0.09680  "
      ]
     },
     "execution_count": 94,
     "metadata": {},
     "output_type": "execute_result"
    }
   ],
   "source": [
    "\n",
    "voyage_input_combined_metrics_df.to_csv(\"generated_all/voyage_input_combined_metrics.csv\", index=False)\n",
    "voyage_input_combined_metrics_df"
   ]
  },
  {
   "cell_type": "code",
   "execution_count": 97,
   "metadata": {},
   "outputs": [
    {
     "data": {
      "image/png": "[encoded data removed]",
      "text/plain": [
       "<Figure size 800x500 with 1 Axes>"
      ]
     },
     "metadata": {},
     "output_type": "display_data"
    }
   ],
   "source": [
    "voyage_input_og_scores_df = calculate_similarity_scores(\n",
    "    voyage_input_og_queries_embeddings_dict,\n",
    "    voyage_input_corpus_embeddings_dict,\n",
    "    \"generated_all/voyage_input_og_scores.parquet\"\n",
    ")\n",
    "\n",
    "voyage_input_gen_scores_df = calculate_similarity_scores(\n",
    "    voyage_input_gen_queries_embeddings_dict,\n",
    "    voyage_input_corpus_embeddings_dict,\n",
    "    \"generated_all/voyage_input_gen_scores.parquet\"\n",
    ")\n",
    "\n",
    "    \n",
    "plt.figure(figsize=(8, 5))\n",
    "\n",
    "plt.hist(voyage_input_og_scores_df[\"score\"], bins=bins, alpha=0.5,  edgecolor='black', label=\"Original\", range=(min_score, max_score), density=True)\n",
    "plt.hist(voyage_input_gen_scores_df[\"score\"], bins=bins, alpha=0.5, edgecolor='black', label=\"Generated\", range=(min_score, max_score), density=True)\n",
    "\n",
    "plt.xlabel(\"Cosine Similarity\")\n",
    "plt.ylabel(\"Normalized Frequency\")\n",
    "\n",
    "plt.title(\"voyage-3-large (input type) (1500 Queries, 13500 Documents)\")\n",
    "plt.legend()\n",
    "plt.grid(True)\n",
    "plt.show()"
   ]
  },
  {
   "cell_type": "markdown",
   "metadata": {},
   "source": [
    "### minilm"
   ]
  },
  {
   "cell_type": "code",
   "execution_count": 100,
   "metadata": {},
   "outputs": [],
   "source": [
    "minilm_col = chroma_client.get_collection(\"minilm\")"
   ]
  },
  {
   "cell_type": "code",
   "execution_count": 101,
   "metadata": {},
   "outputs": [],
   "source": [
    "model = SentenceTransformer(\"all-MiniLM-L6-v2\")"
   ]
  },
  {
   "cell_type": "code",
   "execution_count": 102,
   "metadata": {},
   "outputs": [
    {
     "name": "stderr",
     "output_type": "stream",
     "text": [
      "Processing batches: 100%|██████████| 135/135 [01:46<00:00,  1.27it/s]\n"
     ]
    }
   ],
   "source": [
    "minilm_og_queries_embeddings = minilm_embed_batch(model, og_queries_text)\n",
    "minilm_gen_queries_embeddings = minilm_embed_batch(model, gen_queries_text)\n",
    "\n",
    "minilm_og_queries_embeddings_dict = {\n",
    "    query_id: embedding \n",
    "    for query_id, embedding in zip(all_queries_ids, minilm_og_queries_embeddings)\n",
    "}\n",
    "\n",
    "minilm_gen_queries_embeddings_dict = {\n",
    "    query_id: embedding \n",
    "    for query_id, embedding in zip(all_queries_ids, minilm_gen_queries_embeddings)\n",
    "}\n",
    "\n",
    "minilm_corpus_embeddings_dict = {}\n",
    "\n",
    "for i in tqdm(range(0, len(all_corpus_ids), batch_size), desc=\"Processing batches\"):\n",
    "    batch_ids = all_corpus_ids[i:i + batch_size]\n",
    "    results = minilm_col.get(ids=batch_ids, include=[\"embeddings\"])\n",
    "    batch_embeddings = results[\"embeddings\"]\n",
    "    retrieved_ids = results[\"ids\"]\n",
    "\n",
    "    for corpus_id, embedding in zip(retrieved_ids, batch_embeddings):\n",
    "        minilm_corpus_embeddings_dict[corpus_id] = embedding\n"
   ]
  },
  {
   "cell_type": "code",
   "execution_count": 103,
   "metadata": {},
   "outputs": [
    {
     "name": "stderr",
     "output_type": "stream",
     "text": [
      "Processing batches: 100%|██████████| 15/15 [00:10<00:00,  1.37it/s]\n",
      "Processing batches: 100%|██████████| 15/15 [00:09<00:00,  1.58it/s]\n"
     ]
    },
    {
     "data": {
      "text/html": [
       "<div>\n",
       "<style scoped>\n",
       "    .dataframe tbody tr th:only-of-type {\n",
       "        vertical-align: middle;\n",
       "    }\n",
       "\n",
       "    .dataframe tbody tr th {\n",
       "        vertical-align: top;\n",
       "    }\n",
       "\n",
       "    .dataframe thead th {\n",
       "        text-align: right;\n",
       "    }\n",
       "</style>\n",
       "<table border=\"1\" class=\"dataframe\">\n",
       "  <thead>\n",
       "    <tr style=\"text-align: right;\">\n",
       "      <th></th>\n",
       "      <th>type</th>\n",
       "      <th>NDCG@1</th>\n",
       "      <th>NDCG@3</th>\n",
       "      <th>NDCG@5</th>\n",
       "      <th>NDCG@10</th>\n",
       "      <th>MAP@3</th>\n",
       "      <th>MAP@5</th>\n",
       "      <th>MAP@10</th>\n",
       "      <th>Recall@3</th>\n",
       "      <th>Recall@5</th>\n",
       "      <th>Recall@10</th>\n",
       "      <th>P@3</th>\n",
       "      <th>P@5</th>\n",
       "      <th>P@10</th>\n",
       "    </tr>\n",
       "  </thead>\n",
       "  <tbody>\n",
       "    <tr>\n",
       "      <th>0</th>\n",
       "      <td>original</td>\n",
       "      <td>0.77200</td>\n",
       "      <td>0.84768</td>\n",
       "      <td>0.86237</td>\n",
       "      <td>0.87108</td>\n",
       "      <td>0.82933</td>\n",
       "      <td>0.83757</td>\n",
       "      <td>0.84134</td>\n",
       "      <td>0.90067</td>\n",
       "      <td>0.936</td>\n",
       "      <td>0.96200</td>\n",
       "      <td>0.30022</td>\n",
       "      <td>0.1872</td>\n",
       "      <td>0.09620</td>\n",
       "    </tr>\n",
       "    <tr>\n",
       "      <th>0</th>\n",
       "      <td>generated</td>\n",
       "      <td>0.82933</td>\n",
       "      <td>0.88760</td>\n",
       "      <td>0.89721</td>\n",
       "      <td>0.89941</td>\n",
       "      <td>0.87400</td>\n",
       "      <td>0.87933</td>\n",
       "      <td>0.88026</td>\n",
       "      <td>0.92667</td>\n",
       "      <td>0.950</td>\n",
       "      <td>0.95667</td>\n",
       "      <td>0.30889</td>\n",
       "      <td>0.1900</td>\n",
       "      <td>0.09567</td>\n",
       "    </tr>\n",
       "  </tbody>\n",
       "</table>\n",
       "</div>"
      ],
      "text/plain": [
       "        type   NDCG@1   NDCG@3   NDCG@5  NDCG@10    MAP@3    MAP@5   MAP@10  \\\n",
       "0   original  0.77200  0.84768  0.86237  0.87108  0.82933  0.83757  0.84134   \n",
       "0  generated  0.82933  0.88760  0.89721  0.89941  0.87400  0.87933  0.88026   \n",
       "\n",
       "   Recall@3  Recall@5  Recall@10      P@3     P@5     P@10  \n",
       "0   0.90067     0.936    0.96200  0.30022  0.1872  0.09620  \n",
       "0   0.92667     0.950    0.95667  0.30889  0.1900  0.09567  "
      ]
     },
     "execution_count": 103,
     "metadata": {},
     "output_type": "execute_result"
    }
   ],
   "source": [
    "minilm_og_results = new_get_results(minilm_col, og_queries_text, all_queries_ids, minilm_og_queries_embeddings)\n",
    "minilm_og_metrics = evaluate_new(k_values, all_qrels_df, minilm_og_results)\n",
    "\n",
    "minilm_gen_results = new_get_results(minilm_col, gen_queries_text, all_queries_ids, minilm_gen_queries_embeddings)\n",
    "minilm_gen_metrics = evaluate_new(k_values, all_qrels_df, minilm_gen_results)\n",
    "\n",
    "minilm_combined_metrics_df = create_combined_metrics_df(minilm_og_metrics, minilm_gen_metrics)\n",
    "minilm_combined_metrics_df.to_csv(\"generated_all/minilm_combined_metrics.csv\", index=False)\n",
    "minilm_combined_metrics_df"
   ]
  },
  {
   "cell_type": "code",
   "execution_count": null,
   "metadata": {},
   "outputs": [
    {
     "data": {
      "image/png": "[encoded data removed]",
      "text/plain": [
       "<Figure size 800x500 with 1 Axes>"
      ]
     },
     "metadata": {},
     "output_type": "display_data"
    }
   ],
   "source": [
    "minilm_og_scores_df = calculate_similarity_scores(minilm_og_queries_embeddings_dict, minilm_corpus_embeddings_dict, \"generated_all/minilm_og_scores.parquet\")\n",
    "minilm_gen_scores_df = calculate_similarity_scores(minilm_gen_queries_embeddings_dict, minilm_corpus_embeddings_dict, \"generated_all/minilm_gen_scores.parquet\")\n",
    "\n",
    "plt.figure(figsize=(8, 5))\n",
    "\n",
    "\n",
    "\n",
    "plt.hist(minilm_og_scores_df[\"score\"], bins=bins, alpha=0.5,  edgecolor='black', label=\"Original\", range=(min_score, max_score), density=True)\n",
    "plt.hist(minilm_gen_scores_df[\"score\"], bins=bins, alpha=0.5, edgecolor='black', label=\"Generated\", range=(min_score, max_score), density=True)\n",
    "\n",
    "plt.xlabel(\"Cosine Similarity\")\n",
    "plt.ylabel(\"Normalized Frequency\")\n",
    "\n",
    "plt.title(\"all-MiniLM-L6-v2 (1500 Queries, 13500 Documents)\")\n",
    "plt.legend()\n",
    "plt.grid(True)\n",
    "plt.show()"
   ]
  },
  {
   "cell_type": "markdown",
   "metadata": {},
   "source": [
    "### compare across all models"
   ]
  },
  {
   "cell_type": "code",
   "execution_count": 107,
   "metadata": {},
   "outputs": [],
   "source": [
    "openai_small_combined_metrics_df = pd.read_csv(\"generated_all/openai_small_combined_metrics.csv\")"
   ]
  },
  {
   "cell_type": "code",
   "execution_count": 112,
   "metadata": {},
   "outputs": [],
   "source": [
    "minilm_combined_metrics_df[\"model\"] = \"all-MiniLM-L6-v2\"\n",
    "openai_small_combined_metrics_df[\"model\"] = \"text-embedding-3-small\" \n",
    "openai_large_combined_metrics_df[\"model\"] = \"text-embedding-3-large\"\n",
    "jina_input_combined_metrics_df[\"model\"] = \"jina-embeddings-v3 (input type)\"\n",
    "jina_no_input_combined_metrics_df[\"model\"] = \"jina-embeddings-v3 (no input type)\"\n",
    "voyage_no_input_combined_metrics_df[\"model\"] = \"voyage-3-large (no input type)\"\n",
    "voyage_input_combined_metrics_df[\"model\"] = \"voyage-3-large (input type)\"\n",
    "\n",
    "all_models_metrics_df = pd.concat([\n",
    "    minilm_combined_metrics_df,\n",
    "    openai_small_combined_metrics_df,\n",
    "    openai_large_combined_metrics_df, \n",
    "    jina_input_combined_metrics_df,\n",
    "    jina_no_input_combined_metrics_df,\n",
    "    voyage_no_input_combined_metrics_df,\n",
    "    voyage_input_combined_metrics_df\n",
    "])\n",
    "\n",
    "cols = ['model'] + [col for col in all_models_metrics_df.columns if col != 'model']\n",
    "all_models_metrics_df = all_models_metrics_df[cols]\n",
    "\n",
    "all_models_metrics_df.to_csv(\"generated_all/all_models_metrics.csv\", index=False)"
   ]
  },
  {
   "cell_type": "code",
   "execution_count": null,
   "metadata": {},
   "outputs": [],
   "source": [
    "openai_large_og_scores_df"
   ]
  },
  {
   "cell_type": "code",
   "execution_count": null,
   "metadata": {},
   "outputs": [],
   "source": [
    "test_df = create_combined_df(openai_large_col, openai_large_og_queries_embeddings_dict, openai_large_gen_queries_embeddings_dict, openai_large_og_scores_df, openai_large_gen_scores_df)"
   ]
  },
  {
   "cell_type": "code",
   "execution_count": 159,
   "metadata": {},
   "outputs": [
    {
     "data": {
      "image/png": "[encoded data removed]",
      "text/plain": [
       "<Figure size 1200x600 with 1 Axes>"
      ]
     },
     "metadata": {},
     "output_type": "display_data"
    }
   ],
   "source": [
    "import matplotlib.pyplot as plt\n",
    "\n",
    "plt.figure(figsize=(12, 6))\n",
    "\n",
    "original_data = all_models_metrics_df[all_models_metrics_df['type'] == 'original']\n",
    "generated_data = all_models_metrics_df[all_models_metrics_df['type'] == 'generated']\n",
    "\n",
    "plt.plot(original_data['model'], original_data['NDCG@1'], marker='o', label='Original Queries')\n",
    "plt.plot(generated_data['model'], generated_data['NDCG@1'], marker='o', label='Generated Queries')\n",
    "\n",
    "plt.xticks(rotation=45, ha='right')\n",
    "plt.ylabel('NDCG@1 Score')\n",
    "plt.xlabel('Model')\n",
    "plt.title('NDCG@1 Scores by Model: Original vs Generated Queries')\n",
    "plt.legend()\n",
    "plt.grid(True)\n",
    "plt.tight_layout()\n",
    "\n",
    "plt.show()"
   ]
  },
  {
   "cell_type": "code",
   "execution_count": null,
   "metadata": {},
   "outputs": [],
   "source": []
  }
 ],
 "metadata": {
  "kernelspec": {
   "display_name": "Python 3",
   "language": "python",
   "name": "python3"
  },
  "language_info": {
   "codemirror_mode": {
    "name": "ipython",
    "version": 3
   },
   "file_extension": ".py",
   "mimetype": "text/x-python",
   "name": "python",
   "nbconvert_exporter": "python",
   "pygments_lexer": "ipython3",
   "version": "3.9.6"
  }
 },
 "nbformat": 4,
 "nbformat_minor": 2
}
